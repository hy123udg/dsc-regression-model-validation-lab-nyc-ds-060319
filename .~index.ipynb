{
 "cells": [
  {
   "cell_type": "markdown",
   "metadata": {},
   "source": [
    "# Regression Model Validation - Lab\n",
    "\n",
    "## Introduction\n",
    "\n",
    "In this lab, you'll be able to validate your model using train-test-split.\n",
    "\n",
    "\n",
    "## Objectives\n",
    "\n",
    "You will be able to:\n",
    "\n",
    "- Calculate the mean squared error (MSE) as a measure of predictive performance\n",
    "- Validate the model using the test data\n"
   ]
  },
  {
   "cell_type": "markdown",
   "metadata": {},
   "source": [
    "## Let's use our Boston Housing Data again!\n",
    "\n",
    "This time, let's only include the variables that were previously selected using recursive feature elimination. We included the code to preprocess below."
   ]
  },
  {
   "cell_type": "code",
   "execution_count": 36,
   "metadata": {},
   "outputs": [],
   "source": [
    "import pandas as pd\n",
    "import numpy as np\n",
    "import matplotlib.pyplot as plt\n",
    "%matplotlib inline\n",
    "from sklearn.datasets import load_boston\n",
    "\n",
    "boston = load_boston()\n",
    "\n",
    "boston_features = pd.DataFrame(boston.data, columns = boston.feature_names)\n",
    "b = boston_features[\"B\"]\n",
    "logdis = np.log(boston_features[\"DIS\"])\n",
    "loglstat = np.log(boston_features[\"LSTAT\"])\n",
    "\n",
    "# minmax scaling\n",
    "boston_features[\"B\"] = (b-min(b))/(max(b)-min(b))\n",
    "boston_features[\"DIS\"] = (logdis-min(logdis))/(max(logdis)-min(logdis))\n",
    "\n",
    "#standardization\n",
    "boston_features[\"LSTAT\"] = (loglstat-np.mean(loglstat))/np.sqrt(np.var(loglstat))"
   ]
  },
  {
   "cell_type": "code",
   "execution_count": 37,
   "metadata": {},
   "outputs": [],
   "source": [
    "X = boston_features[['CHAS', 'RM', 'DIS', 'B', 'LSTAT']]\n",
    "y = boston.target"
   ]
  },
  {
   "cell_type": "markdown",
   "metadata": {},
   "source": [
    "## Perform a train-test-split"
   ]
  },
  {
   "cell_type": "code",
   "execution_count": 38,
   "metadata": {},
   "outputs": [],
   "source": [
    "from sklearn.model_selection import train_test_split"
   ]
  },
  {
   "cell_type": "code",
   "execution_count": 39,
   "metadata": {},
   "outputs": [],
   "source": [
    "x_train, x_test, y_train, y_test = train_test_split(X, y, test_size = 0.2)"
   ]
  },
  {
   "cell_type": "code",
   "execution_count": 40,
   "metadata": {},
   "outputs": [
    {
     "name": "stdout",
     "output_type": "stream",
     "text": [
      "404 404 102 102\n"
     ]
    }
   ],
   "source": [
    "print(len(x_train), len(y_train), len(x_test), len(y_test))\n"
   ]
  },
  {
   "cell_type": "markdown",
   "metadata": {},
   "source": [
    "## Apply your model to the train set"
   ]
  },
  {
   "cell_type": "markdown",
   "metadata": {},
   "source": [
    "#### Importing and initializing the model class"
   ]
  },
  {
   "cell_type": "code",
   "execution_count": 41,
   "metadata": {},
   "outputs": [],
   "source": [
    "from sklearn.linear_model import LinearRegression"
   ]
  },
  {
   "cell_type": "code",
   "execution_count": 42,
   "metadata": {},
   "outputs": [],
   "source": [
    "linreg = LinearRegression()"
   ]
  },
  {
   "cell_type": "markdown",
   "metadata": {},
   "source": [
    "#### Fitting the model to the train data"
   ]
  },
  {
   "cell_type": "code",
   "execution_count": 43,
   "metadata": {},
   "outputs": [],
   "source": [
    "result = linreg.fit(x_train, y_train)"
   ]
  },
  {
   "cell_type": "code",
   "execution_count": 44,
   "metadata": {},
   "outputs": [
    {
     "data": {
      "text/plain": [
       "array([ 2.14553916,  3.88475901, -6.12849634,  5.08828644, -6.08034128])"
      ]
     },
     "execution_count": 44,
     "metadata": {},
     "output_type": "execute_result"
    }
   ],
   "source": [
    "result.coef_"
   ]
  },
  {
   "cell_type": "markdown",
   "metadata": {},
   "source": [
    "#### Calculating predictions on the train set, and on the test set"
   ]
  },
  {
   "cell_type": "code",
   "execution_count": 45,
   "metadata": {},
   "outputs": [],
   "source": [
    "y_hat_train = linreg.predict(x_train)\n",
    "y_hat_test = linreg.predict(x_test)"
   ]
  },
  {
   "cell_type": "markdown",
   "metadata": {},
   "source": [
    "#### Calculating your residuals"
   ]
  },
  {
   "cell_type": "code",
   "execution_count": 46,
   "metadata": {},
   "outputs": [],
   "source": [
    "train_res = y_hat_train - y_train\n",
    "test_res = y_hat_test - y_test"
   ]
  },
  {
   "cell_type": "markdown",
   "metadata": {},
   "source": [
    "#### Calculating the Mean Squared Error\n",
    "A good way to compare overall performance is to compare the mean squarred error for the predicted values on the train and test sets."
   ]
  },
  {
   "cell_type": "code",
   "execution_count": 47,
   "metadata": {},
   "outputs": [],
   "source": [
    "from sklearn.metrics import mean_squared_error"
   ]
  },
  {
   "cell_type": "code",
   "execution_count": 48,
   "metadata": {
    "scrolled": true
   },
   "outputs": [
    {
     "data": {
      "text/plain": [
       "21.49253515277319"
      ]
     },
     "execution_count": 48,
     "metadata": {},
     "output_type": "execute_result"
    }
   ],
   "source": [
    "mean_squared_error(y_train, y_hat_train)"
   ]
  },
  {
   "cell_type": "code",
   "execution_count": 49,
   "metadata": {},
   "outputs": [
    {
     "data": {
      "text/plain": [
       "23.25039431863885"
      ]
     },
     "execution_count": 49,
     "metadata": {},
     "output_type": "execute_result"
    }
   ],
   "source": [
    "mean_squared_error(y_test, y_hat_test)"
   ]
  },
  {
   "cell_type": "markdown",
   "metadata": {},
   "source": [
    "If your test error is substantially worse then our train error, this is a sign that our model doesn't generalize well to future cases."
   ]
  },
  {
   "cell_type": "markdown",
   "metadata": {},
   "source": [
    "One simple way to demonstrate overfitting and underfitting is to alter the size of our train test split. By default, scikit learn's built in method allocates 25% of the data to the test set and 75% to the training set. Fitting a model on only 10% of the data is apt to lead to underfitting, while training a model on 99% of the data is apt to lead to overfitting."
   ]
  },
  {
   "cell_type": "markdown",
   "metadata": {},
   "source": [
    "# Evaluating the effect of train-test split size\n",
    "\n",
    "Iterate over a range of train-test split sizes from .5 to .95. For each of these, generate a new train/test split sample. Fit a model to the training sample and calculate both the training error and the test error (mse) for each of these splits. Plot these two curves (train error vs. training size and test error vs. training size) on a graph."
   ]
  },
  {
   "cell_type": "code",
   "execution_count": 50,
   "metadata": {},
   "outputs": [
    {
     "name": "stdout",
     "output_type": "stream",
     "text": [
      "when test size is 0.1\n",
      "train MSR is 20.163485886464954\n",
      "test MSR is 36.74196538472554\n",
      "--------------\n",
      "when test size is 0.11816326530612245\n",
      "train MSR is 22.017718805849018\n",
      "test MSR is 19.948712514566306\n",
      "--------------\n",
      "when test size is 0.1363265306122449\n",
      "train MSR is 21.54498234820618\n",
      "test MSR is 23.012523860146896\n",
      "--------------\n",
      "when test size is 0.15448979591836737\n",
      "train MSR is 21.75777520963088\n",
      "test MSR is 21.734424205295753\n",
      "--------------\n",
      "when test size is 0.1726530612244898\n",
      "train MSR is 19.356562825523383\n",
      "test MSR is 33.17762390079607\n",
      "--------------\n",
      "when test size is 0.19081632653061226\n",
      "train MSR is 21.81527396167935\n",
      "test MSR is 21.83765142247958\n",
      "--------------\n",
      "when test size is 0.2089795918367347\n",
      "train MSR is 22.42377045328564\n",
      "test MSR is 19.61021792626785\n",
      "--------------\n",
      "when test size is 0.22714285714285715\n",
      "train MSR is 22.36713744471864\n",
      "test MSR is 19.783086252227246\n",
      "--------------\n",
      "when test size is 0.2453061224489796\n",
      "train MSR is 22.9992635658974\n",
      "test MSR is 17.95204648809158\n",
      "--------------\n",
      "when test size is 0.26346938775510204\n",
      "train MSR is 20.490104611912273\n",
      "test MSR is 26.434723391087438\n",
      "--------------\n",
      "when test size is 0.2816326530612245\n",
      "train MSR is 22.296914166386266\n",
      "test MSR is 20.495991833176806\n",
      "--------------\n",
      "when test size is 0.2997959183673469\n",
      "train MSR is 21.723714856765326\n",
      "test MSR is 21.891417692174034\n",
      "--------------\n",
      "when test size is 0.3179591836734694\n",
      "train MSR is 20.045635387981747\n",
      "test MSR is 26.398696149889236\n",
      "--------------\n",
      "when test size is 0.33612244897959187\n",
      "train MSR is 22.6162842035565\n",
      "test MSR is 20.452432176569097\n",
      "--------------\n",
      "when test size is 0.3542857142857143\n",
      "train MSR is 18.916501380787395\n",
      "test MSR is 27.176513829445966\n",
      "--------------\n",
      "when test size is 0.37244897959183676\n",
      "train MSR is 23.1691013017186\n",
      "test MSR is 19.988171502757428\n",
      "--------------\n",
      "when test size is 0.3906122448979592\n",
      "train MSR is 20.03962296097262\n",
      "test MSR is 24.734677855100866\n",
      "--------------\n",
      "when test size is 0.40877551020408165\n",
      "train MSR is 19.271445341383483\n",
      "test MSR is 26.264370082428247\n",
      "--------------\n",
      "when test size is 0.4269387755102041\n",
      "train MSR is 20.86772883702882\n",
      "test MSR is 23.14264075385376\n",
      "--------------\n",
      "when test size is 0.44510204081632654\n",
      "train MSR is 16.943300149989124\n",
      "test MSR is 29.165490596601003\n",
      "--------------\n",
      "when test size is 0.463265306122449\n",
      "train MSR is 23.87291287575141\n",
      "test MSR is 20.153634678679662\n",
      "--------------\n",
      "when test size is 0.48142857142857143\n",
      "train MSR is 21.924057341351382\n",
      "test MSR is 21.955497840379707\n",
      "--------------\n",
      "when test size is 0.4995918367346939\n",
      "train MSR is 20.336608792373173\n",
      "test MSR is 25.317122980773824\n",
      "--------------\n",
      "when test size is 0.5177551020408163\n",
      "train MSR is 18.818720512166127\n",
      "test MSR is 26.096014855536\n",
      "--------------\n",
      "when test size is 0.5359183673469388\n",
      "train MSR is 19.182697505458375\n",
      "test MSR is 24.929055301900384\n",
      "--------------\n",
      "when test size is 0.5540816326530612\n",
      "train MSR is 21.038892932162245\n",
      "test MSR is 23.73912766689205\n",
      "--------------\n",
      "when test size is 0.5722448979591837\n",
      "train MSR is 19.512808028620334\n",
      "test MSR is 26.091687976001474\n",
      "--------------\n",
      "when test size is 0.5904081632653061\n",
      "train MSR is 15.965496558904544\n",
      "test MSR is 27.20918420164208\n",
      "--------------\n",
      "when test size is 0.6085714285714285\n",
      "train MSR is 13.058210800834456\n",
      "test MSR is 27.46512413224586\n",
      "--------------\n",
      "when test size is 0.626734693877551\n",
      "train MSR is 27.985907213835787\n",
      "test MSR is 19.00405467966056\n",
      "--------------\n",
      "when test size is 0.6448979591836734\n",
      "train MSR is 20.527439171616404\n",
      "test MSR is 22.974653228626334\n",
      "--------------\n",
      "when test size is 0.6630612244897959\n",
      "train MSR is 22.325374163050295\n",
      "test MSR is 23.0104129556111\n",
      "--------------\n",
      "when test size is 0.6812244897959183\n",
      "train MSR is 15.23914066215646\n",
      "test MSR is 28.58258264228326\n",
      "--------------\n",
      "when test size is 0.6993877551020408\n",
      "train MSR is 21.2869369996203\n",
      "test MSR is 22.712512795716982\n",
      "--------------\n",
      "when test size is 0.7175510204081632\n",
      "train MSR is 21.933368936787502\n",
      "test MSR is 22.99624498139556\n",
      "--------------\n",
      "when test size is 0.7357142857142857\n",
      "train MSR is 19.78553551519545\n",
      "test MSR is 24.047756110385098\n",
      "--------------\n",
      "when test size is 0.7538775510204081\n",
      "train MSR is 20.499270931566475\n",
      "test MSR is 26.659589471352938\n",
      "--------------\n",
      "when test size is 0.7720408163265305\n",
      "train MSR is 25.027672921535355\n",
      "test MSR is 21.214288199023027\n",
      "--------------\n",
      "when test size is 0.790204081632653\n",
      "train MSR is 30.359794552709573\n",
      "test MSR is 21.216670175440687\n",
      "--------------\n",
      "when test size is 0.8083673469387754\n",
      "train MSR is 21.45235132993646\n",
      "test MSR is 22.992152620096928\n",
      "--------------\n",
      "when test size is 0.8265306122448979\n",
      "train MSR is 27.15398878364522\n",
      "test MSR is 21.810910323955547\n",
      "--------------\n",
      "when test size is 0.8446938775510203\n",
      "train MSR is 25.384094361089236\n",
      "test MSR is 22.714601211255438\n",
      "--------------\n",
      "when test size is 0.8628571428571428\n",
      "train MSR is 25.7122554977569\n",
      "test MSR is 26.09202178035261\n",
      "--------------\n",
      "when test size is 0.8810204081632652\n",
      "train MSR is 13.038223372637656\n",
      "test MSR is 24.31467508984653\n",
      "--------------\n",
      "when test size is 0.8991836734693877\n",
      "train MSR is 18.770926964458464\n",
      "test MSR is 25.96565048110471\n",
      "--------------\n",
      "when test size is 0.9173469387755101\n",
      "train MSR is 18.35493678954721\n",
      "test MSR is 23.948607814879004\n",
      "--------------\n",
      "when test size is 0.9355102040816325\n",
      "train MSR is 18.44874229146663\n",
      "test MSR is 26.39361397694551\n",
      "--------------\n",
      "when test size is 0.953673469387755\n",
      "train MSR is 25.26923499092784\n",
      "test MSR is 23.16833729282842\n",
      "--------------\n",
      "when test size is 0.9718367346938775\n",
      "train MSR is 22.18769249375103\n",
      "test MSR is 155.80667407850427\n",
      "--------------\n",
      "when test size is 0.99\n",
      "train MSR is 1.5379632208188845e-27\n",
      "test MSR is 289.21844808466625\n",
      "--------------\n"
     ]
    }
   ],
   "source": [
    "training_error = []\n",
    "testing_error = []\n",
    "for i in np.linspace(0.1,0.99,50):\n",
    "    x_train, x_test, y_train, y_test = train_test_split(X, y, test_size = i)\n",
    "    linreg = LinearRegression()\n",
    "    result = linreg.fit(x_train, y_train)\n",
    "    y_hat_train = linreg.predict(x_train)\n",
    "    y_hat_test = linreg.predict(x_test)\n",
    "    training_error.append(mean_squared_error(y_train, y_hat_train))\n",
    "    testing_error.append(mean_squared_error(y_test, y_hat_test))\n",
    "    print(f'when test size is {i}')\n",
    "    print(f'train MSR is {mean_squared_error(y_train, y_hat_train)}')\n",
    "    print(f'test MSR is {mean_squared_error(y_test, y_hat_test)}')\n",
    "    print('--------------')\n",
    "    "
   ]
  },
  {
   "cell_type": "code",
   "execution_count": null,
   "metadata": {},
   "outputs": [],
   "source": [
    "import matplotlib.pyplot as plt\n",
    "plt.scatter(training_error, testing_error)"
   ]
  },
  {
   "cell_type": "markdown",
   "metadata": {},
   "source": [
    "# Evaluating the effect of train-test split size: extension\n",
    "\n",
    "Repeat the previous example, but for each train-test split size, generate 100 iterations of models/errors and save the average train/test error. This will help account for any particularly good/bad models that might have resulted from poor/good splits in the data. "
   ]
  },
  {
   "cell_type": "code",
   "execution_count": 13,
   "metadata": {},
   "outputs": [
    {
     "data": {
      "text/plain": [
       "<matplotlib.legend.Legend at 0x1a26e93438>"
      ]
     },
     "execution_count": 13,
     "metadata": {},
     "output_type": "execute_result"
    },
    {
     "data": {
      "image/png": "[encoded data removed]",
      "text/plain": [
       "<matplotlib.figure.Figure at 0x1a217d3da0>"
      ]
     },
     "metadata": {},
     "output_type": "display_data"
    }
   ],
   "source": []
  },
  {
   "cell_type": "markdown",
   "metadata": {},
   "source": [
    "What's happening here? evaluate your result!"
   ]
  },
  {
   "cell_type": "markdown",
   "metadata": {},
   "source": [
    "##  Summary "
   ]
  },
  {
   "cell_type": "markdown",
   "metadata": {},
   "source": [
    "Congratulations! You now practiced your knowledge on MSE and on using train-test-split."
   ]
  }
 ],
 "metadata": {
  "kernelspec": {
   "display_name": "Python 3",
   "language": "python",
   "name": "python3"
  },
  "language_info": {
   "codemirror_mode": {
    "name": "ipython",
    "version": 3
   },
   "file_extension": ".py",
   "mimetype": "text/x-python",
   "name": "python",
   "nbconvert_exporter": "python",
   "pygments_lexer": "ipython3",
   "version": "3.6.6"
  }
 },
 "nbformat": 4,
 "nbformat_minor": 2
}
