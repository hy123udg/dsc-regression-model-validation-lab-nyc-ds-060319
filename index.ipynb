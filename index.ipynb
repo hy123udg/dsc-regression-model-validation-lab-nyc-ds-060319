{
 "cells": [
  {
   "cell_type": "markdown",
   "metadata": {},
   "source": [
    "# Regression Model Validation - Lab\n",
    "\n",
    "## Introduction\n",
    "\n",
    "In this lab, you'll be able to validate your model using train-test-split.\n",
    "\n",
    "\n",
    "## Objectives\n",
    "\n",
    "You will be able to:\n",
    "\n",
    "- Calculate the mean squared error (MSE) as a measure of predictive performance\n",
    "- Validate the model using the test data\n"
   ]
  },
  {
   "cell_type": "markdown",
   "metadata": {},
   "source": [
    "## Let's use our Boston Housing Data again!\n",
    "\n",
    "This time, let's only include the variables that were previously selected using recursive feature elimination. We included the code to preprocess below."
   ]
  },
  {
   "cell_type": "code",
   "execution_count": 20,
   "metadata": {},
   "outputs": [],
   "source": [
    "import pandas as pd\n",
    "import numpy as np\n",
    "import matplotlib.pyplot as plt\n",
    "%matplotlib inline\n",
    "from sklearn.datasets import load_boston\n",
    "\n",
    "boston = load_boston()\n",
    "\n",
    "boston_features = pd.DataFrame(boston.data, columns = boston.feature_names)\n",
    "b = boston_features[\"B\"]\n",
    "logdis = np.log(boston_features[\"DIS\"])\n",
    "loglstat = np.log(boston_features[\"LSTAT\"])\n",
    "\n",
    "# minmax scaling\n",
    "boston_features[\"B\"] = (b-min(b))/(max(b)-min(b))\n",
    "boston_features[\"DIS\"] = (logdis-min(logdis))/(max(logdis)-min(logdis))\n",
    "\n",
    "#standardization\n",
    "boston_features[\"LSTAT\"] = (loglstat-np.mean(loglstat))/np.sqrt(np.var(loglstat))"
   ]
  },
  {
   "cell_type": "code",
   "execution_count": 21,
   "metadata": {},
   "outputs": [],
   "source": [
    "X = boston_features[['CHAS', 'RM', 'DIS', 'B', 'LSTAT']]\n",
    "y = boston.target"
   ]
  },
  {
   "cell_type": "markdown",
   "metadata": {},
   "source": [
    "## Perform a train-test-split"
   ]
  },
  {
   "cell_type": "code",
   "execution_count": 22,
   "metadata": {},
   "outputs": [],
   "source": [
    "from sklearn.model_selection import train_test_split"
   ]
  },
  {
   "cell_type": "code",
   "execution_count": 23,
   "metadata": {},
   "outputs": [],
   "source": [
    "x_train, x_test, y_train, y_test = train_test_split(X, y, test_size = 0.2)"
   ]
  },
  {
   "cell_type": "code",
   "execution_count": 24,
   "metadata": {},
   "outputs": [
    {
     "name": "stdout",
     "output_type": "stream",
     "text": [
      "404 404 102 102\n"
     ]
    }
   ],
   "source": [
    "print(len(x_train), len(y_train), len(x_test), len(y_test))\n"
   ]
  },
  {
   "cell_type": "markdown",
   "metadata": {},
   "source": [
    "## Apply your model to the train set"
   ]
  },
  {
   "cell_type": "markdown",
   "metadata": {},
   "source": [
    "#### Importing and initializing the model class"
   ]
  },
  {
   "cell_type": "code",
   "execution_count": 25,
   "metadata": {},
   "outputs": [],
   "source": [
    "from sklearn.linear_model import LinearRegression"
   ]
  },
  {
   "cell_type": "code",
   "execution_count": 26,
   "metadata": {},
   "outputs": [],
   "source": [
    "linreg = LinearRegression()"
   ]
  },
  {
   "cell_type": "markdown",
   "metadata": {},
   "source": [
    "#### Fitting the model to the train data"
   ]
  },
  {
   "cell_type": "code",
   "execution_count": 27,
   "metadata": {},
   "outputs": [],
   "source": [
    "result = linreg.fit(x_train, y_train)"
   ]
  },
  {
   "cell_type": "code",
   "execution_count": 28,
   "metadata": {},
   "outputs": [
    {
     "data": {
      "text/plain": [
       "array([ 2.85766952,  3.1179482 , -7.22745758,  3.89757276, -6.58007303])"
      ]
     },
     "execution_count": 28,
     "metadata": {},
     "output_type": "execute_result"
    }
   ],
   "source": [
    "result.coef_"
   ]
  },
  {
   "cell_type": "markdown",
   "metadata": {},
   "source": [
    "#### Calculating predictions on the train set, and on the test set"
   ]
  },
  {
   "cell_type": "code",
   "execution_count": 29,
   "metadata": {},
   "outputs": [],
   "source": [
    "y_hat_train = linreg.predict(x_train)\n",
    "y_hat_test = linreg.predict(x_test)"
   ]
  },
  {
   "cell_type": "markdown",
   "metadata": {},
   "source": [
    "#### Calculating your residuals"
   ]
  },
  {
   "cell_type": "code",
   "execution_count": 30,
   "metadata": {},
   "outputs": [],
   "source": [
    "train_res = y_hat_train - y_train\n",
    "test_res = y_hat_test - y_test"
   ]
  },
  {
   "cell_type": "markdown",
   "metadata": {},
   "source": [
    "#### Calculating the Mean Squared Error\n",
    "A good way to compare overall performance is to compare the mean squarred error for the predicted values on the train and test sets."
   ]
  },
  {
   "cell_type": "code",
   "execution_count": 31,
   "metadata": {},
   "outputs": [],
   "source": [
    "from sklearn.metrics import mean_squared_error"
   ]
  },
  {
   "cell_type": "code",
   "execution_count": 32,
   "metadata": {
    "scrolled": true
   },
   "outputs": [
    {
     "data": {
      "text/plain": [
       "20.895088113367905"
      ]
     },
     "execution_count": 32,
     "metadata": {},
     "output_type": "execute_result"
    }
   ],
   "source": [
    "mean_squared_error(y_train, y_hat_train)"
   ]
  },
  {
   "cell_type": "code",
   "execution_count": 33,
   "metadata": {},
   "outputs": [
    {
     "data": {
      "text/plain": [
       "25.29312957444136"
      ]
     },
     "execution_count": 33,
     "metadata": {},
     "output_type": "execute_result"
    }
   ],
   "source": [
    "mean_squared_error(y_test, y_hat_test)"
   ]
  },
  {
   "cell_type": "markdown",
   "metadata": {},
   "source": [
    "If your test error is substantially worse then our train error, this is a sign that our model doesn't generalize well to future cases."
   ]
  },
  {
   "cell_type": "markdown",
   "metadata": {},
   "source": [
    "One simple way to demonstrate overfitting and underfitting is to alter the size of our train test split. By default, scikit learn's built in method allocates 25% of the data to the test set and 75% to the training set. Fitting a model on only 10% of the data is apt to lead to underfitting, while training a model on 99% of the data is apt to lead to overfitting."
   ]
  },
  {
   "cell_type": "markdown",
   "metadata": {},
   "source": [
    "# Evaluating the effect of train-test split size\n",
    "\n",
    "Iterate over a range of train-test split sizes from .5 to .95. For each of these, generate a new train/test split sample. Fit a model to the training sample and calculate both the training error and the test error (mse) for each of these splits. Plot these two curves (train error vs. training size and test error vs. training size) on a graph."
   ]
  },
  {
   "cell_type": "code",
   "execution_count": 34,
   "metadata": {},
   "outputs": [
    {
     "name": "stdout",
     "output_type": "stream",
     "text": [
      "when test size is 0.1\n",
      "train MSR is 20.006300699612076\n",
      "test MSR is 38.68675398986187\n",
      "--------------\n",
      "when test size is 0.11816326530612245\n",
      "train MSR is 20.41477887299142\n",
      "test MSR is 31.32753818031301\n",
      "--------------\n",
      "when test size is 0.1363265306122449\n",
      "train MSR is 20.996751539670097\n",
      "test MSR is 26.430956713253998\n",
      "--------------\n",
      "when test size is 0.15448979591836737\n",
      "train MSR is 22.518039405934942\n",
      "test MSR is 17.75084646117442\n",
      "--------------\n",
      "when test size is 0.1726530612244898\n",
      "train MSR is 22.0062609306247\n",
      "test MSR is 20.78511364158359\n",
      "--------------\n",
      "when test size is 0.19081632653061226\n",
      "train MSR is 19.891716068528122\n",
      "test MSR is 30.88498411976255\n",
      "--------------\n",
      "when test size is 0.2089795918367347\n",
      "train MSR is 21.61726796334213\n",
      "test MSR is 22.278763045555824\n",
      "--------------\n",
      "when test size is 0.22714285714285715\n",
      "train MSR is 20.516304177670925\n",
      "test MSR is 27.14257619529745\n",
      "--------------\n",
      "when test size is 0.2453061224489796\n",
      "train MSR is 21.88695889264089\n",
      "test MSR is 21.317508809883247\n",
      "--------------\n",
      "when test size is 0.26346938775510204\n",
      "train MSR is 20.138388827834127\n",
      "test MSR is 26.757244514620616\n",
      "--------------\n",
      "when test size is 0.2816326530612245\n",
      "train MSR is 19.761024179482256\n",
      "test MSR is 26.84244449155606\n",
      "--------------\n",
      "when test size is 0.2997959183673469\n",
      "train MSR is 22.07921414612172\n",
      "test MSR is 21.650512987802006\n",
      "--------------\n",
      "when test size is 0.3179591836734694\n",
      "train MSR is 18.468778233622288\n",
      "test MSR is 30.02639437409492\n",
      "--------------\n",
      "when test size is 0.33612244897959187\n",
      "train MSR is 21.992598016481825\n",
      "test MSR is 22.85181381292168\n",
      "--------------\n",
      "when test size is 0.3542857142857143\n",
      "train MSR is 19.32461270531285\n",
      "test MSR is 26.68758957094583\n",
      "--------------\n",
      "when test size is 0.37244897959183676\n",
      "train MSR is 19.319821120934694\n",
      "test MSR is 27.88865314600405\n",
      "--------------\n",
      "when test size is 0.3906122448979592\n",
      "train MSR is 20.028495924592377\n",
      "test MSR is 24.941396247765645\n",
      "--------------\n",
      "when test size is 0.40877551020408165\n",
      "train MSR is 22.531078224470225\n",
      "test MSR is 20.772592766459965\n",
      "--------------\n",
      "when test size is 0.4269387755102041\n",
      "train MSR is 19.84882472585395\n",
      "test MSR is 26.07380787771366\n",
      "--------------\n",
      "when test size is 0.44510204081632654\n",
      "train MSR is 19.067123440013606\n",
      "test MSR is 26.19921589542836\n",
      "--------------\n",
      "when test size is 0.463265306122449\n",
      "train MSR is 19.30360249187615\n",
      "test MSR is 25.455311529944503\n",
      "--------------\n",
      "when test size is 0.48142857142857143\n",
      "train MSR is 20.39741405469153\n",
      "test MSR is 24.38191654412806\n",
      "--------------\n",
      "when test size is 0.4995918367346939\n",
      "train MSR is 19.668384881845206\n",
      "test MSR is 25.209067367988425\n",
      "--------------\n",
      "when test size is 0.5177551020408163\n",
      "train MSR is 20.630604422519646\n",
      "test MSR is 23.66900083277021\n",
      "--------------\n",
      "when test size is 0.5359183673469388\n",
      "train MSR is 18.877270711307577\n",
      "test MSR is 24.76077129983196\n",
      "--------------\n",
      "when test size is 0.5540816326530612\n",
      "train MSR is 18.414846642341153\n",
      "test MSR is 24.785609101433682\n",
      "--------------\n",
      "when test size is 0.5722448979591837\n",
      "train MSR is 21.635812144326003\n",
      "test MSR is 22.95334542945666\n",
      "--------------\n",
      "when test size is 0.5904081632653061\n",
      "train MSR is 24.346137180514173\n",
      "test MSR is 21.77851191747899\n",
      "--------------\n",
      "when test size is 0.6085714285714285\n",
      "train MSR is 27.75176370118947\n",
      "test MSR is 19.895259042297877\n",
      "--------------\n",
      "when test size is 0.626734693877551\n",
      "train MSR is 24.241878201851375\n",
      "test MSR is 20.733858290781416\n",
      "--------------\n",
      "when test size is 0.6448979591836734\n",
      "train MSR is 16.887358301462776\n",
      "test MSR is 27.556250592832985\n",
      "--------------\n",
      "when test size is 0.6630612244897959\n",
      "train MSR is 20.30019933220163\n",
      "test MSR is 26.105791432851035\n",
      "--------------\n",
      "when test size is 0.6812244897959183\n",
      "train MSR is 18.928514663303904\n",
      "test MSR is 23.91900003847924\n",
      "--------------\n",
      "when test size is 0.6993877551020408\n",
      "train MSR is 24.63864125563447\n",
      "test MSR is 22.530494104379155\n",
      "--------------\n",
      "when test size is 0.7175510204081632\n",
      "train MSR is 25.47729086190288\n",
      "test MSR is 21.520473640796183\n",
      "--------------\n",
      "when test size is 0.7357142857142857\n",
      "train MSR is 20.906489766244608\n",
      "test MSR is 24.49767252156884\n",
      "--------------\n",
      "when test size is 0.7538775510204081\n",
      "train MSR is 18.130086920525144\n",
      "test MSR is 23.40483831977128\n",
      "--------------\n",
      "when test size is 0.7720408163265305\n",
      "train MSR is 23.066922843485617\n",
      "test MSR is 23.576970005247794\n",
      "--------------\n",
      "when test size is 0.790204081632653\n",
      "train MSR is 18.85088689854631\n",
      "test MSR is 23.15672508668534\n",
      "--------------\n",
      "when test size is 0.8083673469387754\n",
      "train MSR is 13.524196436010783\n",
      "test MSR is 29.038038680344226\n",
      "--------------\n",
      "when test size is 0.8265306122448979\n",
      "train MSR is 22.74098151272949\n",
      "test MSR is 23.36778588650887\n",
      "--------------\n",
      "when test size is 0.8446938775510203\n",
      "train MSR is 25.11870832276518\n",
      "test MSR is 22.14371138212806\n",
      "--------------\n",
      "when test size is 0.8628571428571428\n",
      "train MSR is 20.78622840730256\n",
      "test MSR is 24.26906078746028\n",
      "--------------\n",
      "when test size is 0.8810204081632652\n",
      "train MSR is 18.672950840710833\n",
      "test MSR is 25.912483262369655\n",
      "--------------\n",
      "when test size is 0.8991836734693877\n",
      "train MSR is 15.626529271249074\n",
      "test MSR is 27.699095588682443\n",
      "--------------\n",
      "when test size is 0.9173469387755101\n",
      "train MSR is 8.201009713657736\n",
      "test MSR is 34.02219407487677\n",
      "--------------\n",
      "when test size is 0.9355102040816325\n",
      "train MSR is 24.29660058564923\n",
      "test MSR is 31.121237706744854\n",
      "--------------\n",
      "when test size is 0.953673469387755\n",
      "train MSR is 13.622388918881736\n",
      "test MSR is 30.44113891496011\n",
      "--------------\n",
      "when test size is 0.9718367346938775\n",
      "train MSR is 7.180732039047524\n",
      "test MSR is 78.41687403084835\n",
      "--------------\n",
      "when test size is 0.99\n",
      "train MSR is 1.1107161545511847e-28\n",
      "test MSR is 162.0407094772233\n",
      "--------------\n"
     ]
    }
   ],
   "source": [
    "training_error = []\n",
    "testing_error = []\n",
    "for i in np.linspace(0.1,0.99,50):\n",
    "    x_train, x_test, y_train, y_test = train_test_split(X, y, test_size = i)\n",
    "    linreg = LinearRegression()\n",
    "    result = linreg.fit(x_train, y_train)\n",
    "    y_hat_train = linreg.predict(x_train)\n",
    "    y_hat_test = linreg.predict(x_test)\n",
    "    training_error.append(mean_squared_error(y_train, y_hat_train))\n",
    "    testing_error.append(mean_squared_error(y_test, y_hat_test))\n",
    "    print(f'when test size is {i}')\n",
    "    print(f'train MSR is {mean_squared_error(y_train, y_hat_train)}')\n",
    "    print(f'test MSR is {mean_squared_error(y_test, y_hat_test)}')\n",
    "    print('--------------')\n",
    "    "
   ]
  },
  {
   "cell_type": "code",
   "execution_count": 35,
   "metadata": {},
   "outputs": [
    {
     "data": {
      "text/plain": [
       "<matplotlib.collections.PathCollection at 0x7ffa0b7bd4a8>"
      ]
     },
     "execution_count": 35,
     "metadata": {},
     "output_type": "execute_result"
    },
    {
     "data": {
      "image/png": "[encoded data removed]",
      "text/plain": [
       "<Figure size 432x288 with 1 Axes>"
      ]
     },
     "metadata": {
      "needs_background": "light"
     },
     "output_type": "display_data"
    }
   ],
   "source": [
    "import matplotlib.pyplot as plt\n",
    "plt.scatter(training_error, testing_error)"
   ]
  },
  {
   "cell_type": "markdown",
   "metadata": {},
   "source": [
    "# Evaluating the effect of train-test split size: extension\n",
    "\n",
    "Repeat the previous example, but for each train-test split size, generate 100 iterations of models/errors and save the average train/test error. This will help account for any particularly good/bad models that might have resulted from poor/good splits in the data. "
   ]
  },
  {
   "cell_type": "code",
   "execution_count": 13,
   "metadata": {},
   "outputs": [
    {
     "data": {
      "text/plain": [
       "<matplotlib.legend.Legend at 0x1a26e93438>"
      ]
     },
     "execution_count": 13,
     "metadata": {},
     "output_type": "execute_result"
    },
    {
     "data": {
      "image/png": "[encoded data removed]",
      "text/plain": [
       "<matplotlib.figure.Figure at 0x1a217d3da0>"
      ]
     },
     "metadata": {},
     "output_type": "display_data"
    }
   ],
   "source": []
  },
  {
   "cell_type": "markdown",
   "metadata": {},
   "source": [
    "What's happening here? evaluate your result!"
   ]
  },
  {
   "cell_type": "markdown",
   "metadata": {},
   "source": [
    "##  Summary "
   ]
  },
  {
   "cell_type": "markdown",
   "metadata": {},
   "source": [
    "Congratulations! You now practiced your knowledge on MSE and on using train-test-split."
   ]
  }
 ],
 "metadata": {
  "kernelspec": {
   "display_name": "Python 3",
   "language": "python",
   "name": "python3"
  },
  "language_info": {
   "codemirror_mode": {
    "name": "ipython",
    "version": 3
   },
   "file_extension": ".py",
   "mimetype": "text/x-python",
   "name": "python",
   "nbconvert_exporter": "python",
   "pygments_lexer": "ipython3",
   "version": "3.6.6"
  }
 },
 "nbformat": 4,
 "nbformat_minor": 2
}
