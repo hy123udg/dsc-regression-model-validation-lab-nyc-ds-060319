{
 "cells": [
  {
   "cell_type": "markdown",
   "metadata": {},
   "source": [
    "# Regression Model Validation - Lab\n",
    "\n",
    "## Introduction\n",
    "\n",
    "In this lab, you'll be able to validate your model using train-test-split.\n",
    "\n",
    "\n",
    "## Objectives\n",
    "\n",
    "You will be able to:\n",
    "\n",
    "- Calculate the mean squared error (MSE) as a measure of predictive performance\n",
    "- Validate the model using the test data\n"
   ]
  },
  {
   "cell_type": "markdown",
   "metadata": {},
   "source": [
    "## Let's use our Boston Housing Data again!\n",
    "\n",
    "This time, let's only include the variables that were previously selected using recursive feature elimination. We included the code to preprocess below."
   ]
  },
  {
   "cell_type": "code",
   "execution_count": 20,
   "metadata": {},
   "outputs": [],
   "source": [
    "import pandas as pd\n",
    "import numpy as np\n",
    "import matplotlib.pyplot as plt\n",
    "%matplotlib inline\n",
    "from sklearn.datasets import load_boston\n",
    "\n",
    "boston = load_boston()\n",
    "\n",
    "boston_features = pd.DataFrame(boston.data, columns = boston.feature_names)\n",
    "b = boston_features[\"B\"]\n",
    "logdis = np.log(boston_features[\"DIS\"])\n",
    "loglstat = np.log(boston_features[\"LSTAT\"])\n",
    "\n",
    "# minmax scaling\n",
    "boston_features[\"B\"] = (b-min(b))/(max(b)-min(b))\n",
    "boston_features[\"DIS\"] = (logdis-min(logdis))/(max(logdis)-min(logdis))\n",
    "\n",
    "#standardization\n",
    "boston_features[\"LSTAT\"] = (loglstat-np.mean(loglstat))/np.sqrt(np.var(loglstat))"
   ]
  },
  {
   "cell_type": "code",
   "execution_count": 21,
   "metadata": {},
   "outputs": [],
   "source": [
    "X = boston_features[['CHAS', 'RM', 'DIS', 'B', 'LSTAT']]\n",
    "y = boston.target"
   ]
  },
  {
   "cell_type": "markdown",
   "metadata": {},
   "source": [
    "## Perform a train-test-split"
   ]
  },
  {
   "cell_type": "code",
   "execution_count": 22,
   "metadata": {},
   "outputs": [],
   "source": [
    "from sklearn.model_selection import train_test_split"
   ]
  },
  {
   "cell_type": "code",
   "execution_count": 23,
   "metadata": {},
   "outputs": [],
   "source": [
    "x_train, x_test, y_train, y_test = train_test_split(X, y, test_size = 0.2)"
   ]
  },
  {
   "cell_type": "code",
   "execution_count": 24,
   "metadata": {},
   "outputs": [
    {
     "name": "stdout",
     "output_type": "stream",
     "text": [
      "404 404 102 102\n"
     ]
    }
   ],
   "source": [
    "print(len(x_train), len(y_train), len(x_test), len(y_test))\n"
   ]
  },
  {
   "cell_type": "markdown",
   "metadata": {},
   "source": [
    "## Apply your model to the train set"
   ]
  },
  {
   "cell_type": "markdown",
   "metadata": {},
   "source": [
    "#### Importing and initializing the model class"
   ]
  },
  {
   "cell_type": "code",
   "execution_count": 25,
   "metadata": {},
   "outputs": [],
   "source": [
    "from sklearn.linear_model import LinearRegression"
   ]
  },
  {
   "cell_type": "code",
   "execution_count": 26,
   "metadata": {},
   "outputs": [],
   "source": [
    "linreg = LinearRegression()"
   ]
  },
  {
   "cell_type": "markdown",
   "metadata": {},
   "source": [
    "#### Fitting the model to the train data"
   ]
  },
  {
   "cell_type": "code",
   "execution_count": 9,
   "metadata": {},
   "outputs": [],
   "source": [
    "result = linreg.fit(x_train, y_train)"
   ]
  },
  {
   "cell_type": "code",
   "execution_count": 10,
   "metadata": {},
   "outputs": [
    {
     "data": {
      "text/plain": [
       "array([ 2.40222584,  3.31293117, -6.26481477,  4.3177078 , -6.29261477])"
      ]
     },
     "execution_count": 10,
     "metadata": {},
     "output_type": "execute_result"
    }
   ],
   "source": [
    "result.coef_"
   ]
  },
  {
   "cell_type": "markdown",
   "metadata": {},
   "source": [
    "#### Calculating predictions on the train set, and on the test set"
   ]
  },
  {
   "cell_type": "code",
   "execution_count": 11,
   "metadata": {},
   "outputs": [],
   "source": [
    "y_hat_train = linreg.predict(x_train)\n",
    "y_hat_test = linreg.predict(x_test)"
   ]
  },
  {
   "cell_type": "markdown",
   "metadata": {},
   "source": [
    "#### Calculating your residuals"
   ]
  },
  {
   "cell_type": "code",
   "execution_count": 12,
   "metadata": {},
   "outputs": [],
   "source": [
    "train_res = y_hat_train - y_train\n",
    "test_res = y_hat_test - y_test"
   ]
  },
  {
   "cell_type": "markdown",
   "metadata": {},
   "source": [
    "#### Calculating the Mean Squared Error\n",
    "A good way to compare overall performance is to compare the mean squarred error for the predicted values on the train and test sets."
   ]
  },
  {
   "cell_type": "code",
   "execution_count": 13,
   "metadata": {},
   "outputs": [],
   "source": [
    "from sklearn.metrics import mean_squared_error"
   ]
  },
  {
   "cell_type": "code",
   "execution_count": 14,
   "metadata": {
    "scrolled": true
   },
   "outputs": [
    {
     "data": {
      "text/plain": [
       "21.575844982361577"
      ]
     },
     "execution_count": 14,
     "metadata": {},
     "output_type": "execute_result"
    }
   ],
   "source": [
    "mean_squared_error(y_train, y_hat_train)"
   ]
  },
  {
   "cell_type": "code",
   "execution_count": 15,
   "metadata": {},
   "outputs": [
    {
     "data": {
      "text/plain": [
       "22.348728363346012"
      ]
     },
     "execution_count": 15,
     "metadata": {},
     "output_type": "execute_result"
    }
   ],
   "source": [
    "mean_squared_error(y_test, y_hat_test)"
   ]
  },
  {
   "cell_type": "markdown",
   "metadata": {},
   "source": [
    "If your test error is substantially worse then our train error, this is a sign that our model doesn't generalize well to future cases."
   ]
  },
  {
   "cell_type": "markdown",
   "metadata": {},
   "source": [
    "One simple way to demonstrate overfitting and underfitting is to alter the size of our train test split. By default, scikit learn's built in method allocates 25% of the data to the test set and 75% to the training set. Fitting a model on only 10% of the data is apt to lead to underfitting, while training a model on 99% of the data is apt to lead to overfitting."
   ]
  },
  {
   "cell_type": "markdown",
   "metadata": {},
   "source": [
    "# Evaluating the effect of train-test split size\n",
    "\n",
    "Iterate over a range of train-test split sizes from .5 to .95. For each of these, generate a new train/test split sample. Fit a model to the training sample and calculate both the training error and the test error (mse) for each of these splits. Plot these two curves (train error vs. training size and test error vs. training size) on a graph."
   ]
  },
  {
   "cell_type": "code",
   "execution_count": 17,
   "metadata": {},
   "outputs": [
    {
     "name": "stdout",
     "output_type": "stream",
     "text": [
      "when test size is 0.1\n",
      "train MSR is 22.409842465548955\n",
      "test MSR is 15.602440254037063\n",
      "--------------\n",
      "when test size is 0.11816326530612245\n",
      "train MSR is 21.451383972714883\n",
      "test MSR is 24.182326302881464\n",
      "--------------\n",
      "when test size is 0.1363265306122449\n",
      "train MSR is 23.152374012102428\n",
      "test MSR is 12.568961128863894\n",
      "--------------\n",
      "when test size is 0.15448979591836737\n",
      "train MSR is 20.83235010298876\n",
      "test MSR is 26.72650746400296\n",
      "--------------\n",
      "when test size is 0.1726530612244898\n",
      "train MSR is 21.48630049024216\n",
      "test MSR is 24.208835631798095\n",
      "--------------\n",
      "when test size is 0.19081632653061226\n",
      "train MSR is 21.69152715919678\n",
      "test MSR is 22.32836313831002\n",
      "--------------\n",
      "when test size is 0.2089795918367347\n",
      "train MSR is 20.384033519408963\n",
      "test MSR is 27.395162720184956\n",
      "--------------\n",
      "when test size is 0.22714285714285715\n",
      "train MSR is 22.544273617896543\n",
      "test MSR is 19.158231604462333\n",
      "--------------\n",
      "when test size is 0.2453061224489796\n",
      "train MSR is 22.89779289663674\n",
      "test MSR is 18.180349641746016\n",
      "--------------\n",
      "when test size is 0.26346938775510204\n",
      "train MSR is 22.084685946733398\n",
      "test MSR is 21.16795643664671\n",
      "--------------\n",
      "when test size is 0.2816326530612245\n",
      "train MSR is 24.615490983618045\n",
      "test MSR is 14.394664954819541\n",
      "--------------\n",
      "when test size is 0.2997959183673469\n",
      "train MSR is 21.12020776309007\n",
      "test MSR is 24.44047462350642\n",
      "--------------\n",
      "when test size is 0.3179591836734694\n",
      "train MSR is 21.72934043119574\n",
      "test MSR is 21.698896343418276\n",
      "--------------\n",
      "when test size is 0.33612244897959187\n",
      "train MSR is 24.500400519108865\n",
      "test MSR is 16.502508770418864\n",
      "--------------\n",
      "when test size is 0.3542857142857143\n",
      "train MSR is 23.84003679894936\n",
      "test MSR is 18.301042627600257\n",
      "--------------\n",
      "when test size is 0.37244897959183676\n",
      "train MSR is 21.38433225021889\n",
      "test MSR is 22.424775212370395\n",
      "--------------\n",
      "when test size is 0.3906122448979592\n",
      "train MSR is 19.54403844181959\n",
      "test MSR is 26.52951150773219\n",
      "--------------\n",
      "when test size is 0.40877551020408165\n",
      "train MSR is 20.6361202526657\n",
      "test MSR is 25.05786845159157\n",
      "--------------\n",
      "when test size is 0.4269387755102041\n",
      "train MSR is 20.290163643187384\n",
      "test MSR is 24.52029678704366\n",
      "--------------\n",
      "when test size is 0.44510204081632654\n",
      "train MSR is 22.20330701929026\n",
      "test MSR is 21.751241300298886\n",
      "--------------\n",
      "when test size is 0.463265306122449\n",
      "train MSR is 23.788689476092962\n",
      "test MSR is 20.8837275972954\n",
      "--------------\n",
      "when test size is 0.48142857142857143\n",
      "train MSR is 23.037566302147123\n",
      "test MSR is 20.926067543228687\n",
      "--------------\n",
      "when test size is 0.4995918367346939\n",
      "train MSR is 21.90196258812138\n",
      "test MSR is 22.33557867606992\n",
      "--------------\n",
      "when test size is 0.5177551020408163\n",
      "train MSR is 22.065888823542\n",
      "test MSR is 22.1583978211531\n",
      "--------------\n",
      "when test size is 0.5359183673469388\n",
      "train MSR is 23.80980687863764\n",
      "test MSR is 20.15005448554783\n",
      "--------------\n",
      "when test size is 0.5540816326530612\n",
      "train MSR is 23.31296841453255\n",
      "test MSR is 20.89927147822221\n",
      "--------------\n",
      "when test size is 0.5722448979591837\n",
      "train MSR is 17.39595992043303\n",
      "test MSR is 25.080736952507714\n",
      "--------------\n",
      "when test size is 0.5904081632653061\n",
      "train MSR is 18.683617560090788\n",
      "test MSR is 24.849718951734424\n",
      "--------------\n",
      "when test size is 0.6085714285714285\n",
      "train MSR is 21.62748772581508\n",
      "test MSR is 21.98107257131795\n",
      "--------------\n",
      "when test size is 0.626734693877551\n",
      "train MSR is 25.49705322646285\n",
      "test MSR is 20.427846186957282\n",
      "--------------\n",
      "when test size is 0.6448979591836734\n",
      "train MSR is 26.659342708963248\n",
      "test MSR is 19.60480113612862\n",
      "--------------\n",
      "when test size is 0.6630612244897959\n",
      "train MSR is 26.4601805055545\n",
      "test MSR is 20.10177470363463\n",
      "--------------\n",
      "when test size is 0.6812244897959183\n",
      "train MSR is 22.276554981094915\n",
      "test MSR is 22.602531036391245\n",
      "--------------\n",
      "when test size is 0.6993877551020408\n",
      "train MSR is 24.778621607961394\n",
      "test MSR is 22.21089747348352\n",
      "--------------\n",
      "when test size is 0.7175510204081632\n",
      "train MSR is 18.688595525029132\n",
      "test MSR is 25.0371774701426\n",
      "--------------\n",
      "when test size is 0.7357142857142857\n",
      "train MSR is 21.206666359722202\n",
      "test MSR is 22.405695112142013\n",
      "--------------\n",
      "when test size is 0.7538775510204081\n",
      "train MSR is 21.663520591425883\n",
      "test MSR is 23.11068362816929\n",
      "--------------\n",
      "when test size is 0.7720408163265305\n",
      "train MSR is 17.972892364479634\n",
      "test MSR is 26.3563163911846\n",
      "--------------\n",
      "when test size is 0.790204081632653\n",
      "train MSR is 22.11553171929683\n",
      "test MSR is 22.097817738802572\n",
      "--------------\n",
      "when test size is 0.8083673469387754\n",
      "train MSR is 21.180834070553907\n",
      "test MSR is 22.612155166585183\n",
      "--------------\n",
      "when test size is 0.8265306122448979\n",
      "train MSR is 15.418013260015636\n",
      "test MSR is 27.923578256668076\n",
      "--------------\n",
      "when test size is 0.8446938775510203\n",
      "train MSR is 16.80492589181289\n",
      "test MSR is 25.002544835997224\n",
      "--------------\n",
      "when test size is 0.8628571428571428\n",
      "train MSR is 16.96173310764368\n",
      "test MSR is 24.199744192175146\n",
      "--------------\n",
      "when test size is 0.8810204081632652\n",
      "train MSR is 12.42207517973236\n",
      "test MSR is 29.980963093716575\n",
      "--------------\n",
      "when test size is 0.8991836734693877\n",
      "train MSR is 23.701095741720565\n",
      "test MSR is 29.728361991095735\n",
      "--------------\n",
      "when test size is 0.9173469387755101\n",
      "train MSR is 15.113871558000499\n",
      "test MSR is 30.678773780981224\n",
      "--------------\n",
      "when test size is 0.9355102040816325\n",
      "train MSR is 10.987982525590635\n",
      "test MSR is 25.350339344084595\n",
      "--------------\n",
      "when test size is 0.953673469387755\n",
      "train MSR is 13.643883140591692\n",
      "test MSR is 23.938451264043593\n",
      "--------------\n",
      "when test size is 0.9718367346938775\n",
      "train MSR is 3.6925365897625215\n",
      "test MSR is 65.34458541080733\n",
      "--------------\n",
      "when test size is 0.99\n",
      "train MSR is 1.5777218104420236e-29\n",
      "test MSR is 46.53605425938976\n",
      "--------------\n"
     ]
    }
   ],
   "source": [
    "training_error = []\n",
    "testing_error = []\n",
    "for i in np.linspace(0.1,0.99,50):\n",
    "    x_train, x_test, y_train, y_test = train_test_split(X, y, test_size = i)\n",
    "    linreg = LinearRegression()\n",
    "    result = linreg.fit(x_train, y_train)\n",
    "    y_hat_train = linreg.predict(x_train)\n",
    "    y_hat_test = linreg.predict(x_test)\n",
    "    training_error.append(mean_squared_error(y_train, y_hat_train))\n",
    "    testing_error.append(mean_squared_error(y_test, y_hat_test))\n",
    "    print(f'when test size is {i}')\n",
    "    print(f'train MSR is {mean_squared_error(y_train, y_hat_train)}')\n",
    "    print(f'test MSR is {mean_squared_error(y_test, y_hat_test)}')\n",
    "    print('--------------')\n",
    "    "
   ]
  },
  {
   "cell_type": "code",
   "execution_count": 19,
   "metadata": {},
   "outputs": [
    {
     "data": {
      "text/plain": [
       "<matplotlib.collections.PathCollection at 0x7ffa0b7c7a90>"
      ]
     },
     "execution_count": 19,
     "metadata": {},
     "output_type": "execute_result"
    },
    {
     "data": {
      "image/png": "[encoded data removed]",
      "text/plain": [
       "<Figure size 432x288 with 1 Axes>"
      ]
     },
     "metadata": {
      "needs_background": "light"
     },
     "output_type": "display_data"
    }
   ],
   "source": [
    "import matplotlib.pyplot as plt\n",
    "plt.scatter(training_error, testing_error)"
   ]
  },
  {
   "cell_type": "markdown",
   "metadata": {},
   "source": [
    "# Evaluating the effect of train-test split size: extension\n",
    "\n",
    "Repeat the previous example, but for each train-test split size, generate 100 iterations of models/errors and save the average train/test error. This will help account for any particularly good/bad models that might have resulted from poor/good splits in the data. "
   ]
  },
  {
   "cell_type": "code",
   "execution_count": 13,
   "metadata": {},
   "outputs": [
    {
     "data": {
      "text/plain": [
       "<matplotlib.legend.Legend at 0x1a26e93438>"
      ]
     },
     "execution_count": 13,
     "metadata": {},
     "output_type": "execute_result"
    },
    {
     "data": {
      "image/png": "[encoded data removed]",
      "text/plain": [
       "<matplotlib.figure.Figure at 0x1a217d3da0>"
      ]
     },
     "metadata": {},
     "output_type": "display_data"
    }
   ],
   "source": []
  },
  {
   "cell_type": "markdown",
   "metadata": {},
   "source": [
    "What's happening here? evaluate your result!"
   ]
  },
  {
   "cell_type": "markdown",
   "metadata": {},
   "source": [
    "##  Summary "
   ]
  },
  {
   "cell_type": "markdown",
   "metadata": {},
   "source": [
    "Congratulations! You now practiced your knowledge on MSE and on using train-test-split."
   ]
  }
 ],
 "metadata": {
  "kernelspec": {
   "display_name": "Python 3",
   "language": "python",
   "name": "python3"
  },
  "language_info": {
   "codemirror_mode": {
    "name": "ipython",
    "version": 3
   },
   "file_extension": ".py",
   "mimetype": "text/x-python",
   "name": "python",
   "nbconvert_exporter": "python",
   "pygments_lexer": "ipython3",
   "version": "3.6.6"
  }
 },
 "nbformat": 4,
 "nbformat_minor": 2
}
