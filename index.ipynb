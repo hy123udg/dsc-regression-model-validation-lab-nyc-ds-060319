{
 "cells": [
  {
   "cell_type": "markdown",
   "metadata": {},
   "source": [
    "# Regression Model Validation - Lab\n",
    "\n",
    "## Introduction\n",
    "\n",
    "In this lab, you'll be able to validate your model using train-test-split.\n",
    "\n",
    "\n",
    "## Objectives\n",
    "\n",
    "You will be able to:\n",
    "\n",
    "- Calculate the mean squared error (MSE) as a measure of predictive performance\n",
    "- Validate the model using the test data\n"
   ]
  },
  {
   "cell_type": "markdown",
   "metadata": {},
   "source": [
    "## Let's use our Boston Housing Data again!\n",
    "\n",
    "This time, let's only include the variables that were previously selected using recursive feature elimination. We included the code to preprocess below."
   ]
  },
  {
   "cell_type": "code",
   "execution_count": 52,
   "metadata": {},
   "outputs": [],
   "source": [
    "import pandas as pd\n",
    "import numpy as np\n",
    "import matplotlib.pyplot as plt\n",
    "%matplotlib inline\n",
    "from sklearn.datasets import load_boston\n",
    "\n",
    "boston = load_boston()\n",
    "\n",
    "boston_features = pd.DataFrame(boston.data, columns = boston.feature_names)\n",
    "b = boston_features[\"B\"]\n",
    "logdis = np.log(boston_features[\"DIS\"])\n",
    "loglstat = np.log(boston_features[\"LSTAT\"])\n",
    "\n",
    "# minmax scaling\n",
    "boston_features[\"B\"] = (b-min(b))/(max(b)-min(b))\n",
    "boston_features[\"DIS\"] = (logdis-min(logdis))/(max(logdis)-min(logdis))\n",
    "\n",
    "#standardization\n",
    "boston_features[\"LSTAT\"] = (loglstat-np.mean(loglstat))/np.sqrt(np.var(loglstat))"
   ]
  },
  {
   "cell_type": "code",
   "execution_count": 53,
   "metadata": {},
   "outputs": [],
   "source": [
    "X = boston_features[['CHAS', 'RM', 'DIS', 'B', 'LSTAT']]\n",
    "y = boston.target"
   ]
  },
  {
   "cell_type": "markdown",
   "metadata": {},
   "source": [
    "## Perform a train-test-split"
   ]
  },
  {
   "cell_type": "code",
   "execution_count": 54,
   "metadata": {},
   "outputs": [],
   "source": [
    "from sklearn.model_selection import train_test_split"
   ]
  },
  {
   "cell_type": "code",
   "execution_count": 55,
   "metadata": {},
   "outputs": [],
   "source": [
    "x_train, x_test, y_train, y_test = train_test_split(X, y, test_size = 0.2)"
   ]
  },
  {
   "cell_type": "code",
   "execution_count": 56,
   "metadata": {},
   "outputs": [
    {
     "name": "stdout",
     "output_type": "stream",
     "text": [
      "404 404 102 102\n"
     ]
    }
   ],
   "source": [
    "print(len(x_train), len(y_train), len(x_test), len(y_test))\n"
   ]
  },
  {
   "cell_type": "markdown",
   "metadata": {},
   "source": [
    "## Apply your model to the train set"
   ]
  },
  {
   "cell_type": "markdown",
   "metadata": {},
   "source": [
    "#### Importing and initializing the model class"
   ]
  },
  {
   "cell_type": "code",
   "execution_count": 57,
   "metadata": {},
   "outputs": [],
   "source": [
    "from sklearn.linear_model import LinearRegression"
   ]
  },
  {
   "cell_type": "code",
   "execution_count": 58,
   "metadata": {},
   "outputs": [],
   "source": [
    "linreg = LinearRegression()"
   ]
  },
  {
   "cell_type": "markdown",
   "metadata": {},
   "source": [
    "#### Fitting the model to the train data"
   ]
  },
  {
   "cell_type": "code",
   "execution_count": 59,
   "metadata": {},
   "outputs": [],
   "source": [
    "result = linreg.fit(x_train, y_train)"
   ]
  },
  {
   "cell_type": "code",
   "execution_count": 60,
   "metadata": {},
   "outputs": [
    {
     "data": {
      "text/plain": [
       "array([ 1.53420757,  3.68699358, -5.4387042 ,  5.20391077, -6.10201957])"
      ]
     },
     "execution_count": 60,
     "metadata": {},
     "output_type": "execute_result"
    }
   ],
   "source": [
    "result.coef_"
   ]
  },
  {
   "cell_type": "markdown",
   "metadata": {},
   "source": [
    "#### Calculating predictions on the train set, and on the test set"
   ]
  },
  {
   "cell_type": "code",
   "execution_count": 61,
   "metadata": {},
   "outputs": [],
   "source": [
    "y_hat_train = linreg.predict(x_train)\n",
    "y_hat_test = linreg.predict(x_test)"
   ]
  },
  {
   "cell_type": "markdown",
   "metadata": {},
   "source": [
    "#### Calculating your residuals"
   ]
  },
  {
   "cell_type": "code",
   "execution_count": 62,
   "metadata": {},
   "outputs": [],
   "source": [
    "train_res = y_hat_train - y_train\n",
    "test_res = y_hat_test - y_test"
   ]
  },
  {
   "cell_type": "markdown",
   "metadata": {},
   "source": [
    "#### Calculating the Mean Squared Error\n",
    "A good way to compare overall performance is to compare the mean squarred error for the predicted values on the train and test sets."
   ]
  },
  {
   "cell_type": "code",
   "execution_count": 63,
   "metadata": {},
   "outputs": [],
   "source": [
    "from sklearn.metrics import mean_squared_error"
   ]
  },
  {
   "cell_type": "code",
   "execution_count": 64,
   "metadata": {
    "scrolled": true
   },
   "outputs": [
    {
     "data": {
      "text/plain": [
       "20.48823981124313"
      ]
     },
     "execution_count": 64,
     "metadata": {},
     "output_type": "execute_result"
    }
   ],
   "source": [
    "mean_squared_error(y_train, y_hat_train)"
   ]
  },
  {
   "cell_type": "code",
   "execution_count": 65,
   "metadata": {},
   "outputs": [
    {
     "data": {
      "text/plain": [
       "27.705327247732015"
      ]
     },
     "execution_count": 65,
     "metadata": {},
     "output_type": "execute_result"
    }
   ],
   "source": [
    "mean_squared_error(y_test, y_hat_test)"
   ]
  },
  {
   "cell_type": "markdown",
   "metadata": {},
   "source": [
    "If your test error is substantially worse then our train error, this is a sign that our model doesn't generalize well to future cases."
   ]
  },
  {
   "cell_type": "markdown",
   "metadata": {},
   "source": [
    "One simple way to demonstrate overfitting and underfitting is to alter the size of our train test split. By default, scikit learn's built in method allocates 25% of the data to the test set and 75% to the training set. Fitting a model on only 10% of the data is apt to lead to underfitting, while training a model on 99% of the data is apt to lead to overfitting."
   ]
  },
  {
   "cell_type": "markdown",
   "metadata": {},
   "source": [
    "# Evaluating the effect of train-test split size\n",
    "\n",
    "Iterate over a range of train-test split sizes from .5 to .95. For each of these, generate a new train/test split sample. Fit a model to the training sample and calculate both the training error and the test error (mse) for each of these splits. Plot these two curves (train error vs. training size and test error vs. training size) on a graph."
   ]
  },
  {
   "cell_type": "code",
   "execution_count": 66,
   "metadata": {},
   "outputs": [
    {
     "name": "stdout",
     "output_type": "stream",
     "text": [
      "when test size is 0.1\n",
      "train MSR is 21.095085431834175\n",
      "test MSR is 27.886818214022114\n",
      "--------------\n",
      "when test size is 0.11816326530612245\n",
      "train MSR is 22.73919849026068\n",
      "test MSR is 14.02385571668972\n",
      "--------------\n",
      "when test size is 0.1363265306122449\n",
      "train MSR is 22.586918699259225\n",
      "test MSR is 16.30506028836068\n",
      "--------------\n",
      "when test size is 0.15448979591836737\n",
      "train MSR is 21.508441873194457\n",
      "test MSR is 22.989182830862678\n",
      "--------------\n",
      "when test size is 0.1726530612244898\n",
      "train MSR is 20.347258501482752\n",
      "test MSR is 28.70395187616933\n",
      "--------------\n",
      "when test size is 0.19081632653061226\n",
      "train MSR is 21.268452000008658\n",
      "test MSR is 24.737415646647005\n",
      "--------------\n",
      "when test size is 0.2089795918367347\n",
      "train MSR is 21.10869174024435\n",
      "test MSR is 24.13638132916222\n",
      "--------------\n",
      "when test size is 0.22714285714285715\n",
      "train MSR is 21.705932727536013\n",
      "test MSR is 21.94566700528922\n",
      "--------------\n",
      "when test size is 0.2453061224489796\n",
      "train MSR is 22.288001131648745\n",
      "test MSR is 20.29353508596296\n",
      "--------------\n",
      "when test size is 0.26346938775510204\n",
      "train MSR is 20.85318661573373\n",
      "test MSR is 24.189559590491747\n",
      "--------------\n",
      "when test size is 0.2816326530612245\n",
      "train MSR is 21.381422042150774\n",
      "test MSR is 23.118599049476863\n",
      "--------------\n",
      "when test size is 0.2997959183673469\n",
      "train MSR is 20.64622548043951\n",
      "test MSR is 24.522221047843146\n",
      "--------------\n",
      "when test size is 0.3179591836734694\n",
      "train MSR is 21.116127169180412\n",
      "test MSR is 23.791422938096733\n",
      "--------------\n",
      "when test size is 0.33612244897959187\n",
      "train MSR is 17.79556298769006\n",
      "test MSR is 29.572567424934558\n",
      "--------------\n",
      "when test size is 0.3542857142857143\n",
      "train MSR is 22.715800621654548\n",
      "test MSR is 20.352136465498788\n",
      "--------------\n",
      "when test size is 0.37244897959183676\n",
      "train MSR is 22.375347590000104\n",
      "test MSR is 21.991511372101183\n",
      "--------------\n",
      "when test size is 0.3906122448979592\n",
      "train MSR is 19.985270307640288\n",
      "test MSR is 25.47501899662219\n",
      "--------------\n",
      "when test size is 0.40877551020408165\n",
      "train MSR is 19.900802296715074\n",
      "test MSR is 25.481824137363795\n",
      "--------------\n",
      "when test size is 0.4269387755102041\n",
      "train MSR is 22.28416027085691\n",
      "test MSR is 22.605900329113805\n",
      "--------------\n",
      "when test size is 0.44510204081632654\n",
      "train MSR is 22.177144576644714\n",
      "test MSR is 21.954357596625574\n",
      "--------------\n",
      "when test size is 0.463265306122449\n",
      "train MSR is 22.067236562049978\n",
      "test MSR is 21.79303273423632\n",
      "--------------\n",
      "when test size is 0.48142857142857143\n",
      "train MSR is 19.205211812989575\n",
      "test MSR is 24.82667633426805\n",
      "--------------\n",
      "when test size is 0.4995918367346939\n",
      "train MSR is 23.16743499189304\n",
      "test MSR is 21.578074606970908\n",
      "--------------\n",
      "when test size is 0.5177551020408163\n",
      "train MSR is 23.437406138447944\n",
      "test MSR is 20.355354797827115\n",
      "--------------\n",
      "when test size is 0.5359183673469388\n",
      "train MSR is 18.88915901644288\n",
      "test MSR is 24.48510964017698\n",
      "--------------\n",
      "when test size is 0.5540816326530612\n",
      "train MSR is 17.167449450137276\n",
      "test MSR is 25.609324035427644\n",
      "--------------\n",
      "when test size is 0.5722448979591837\n",
      "train MSR is 19.02453050062595\n",
      "test MSR is 25.067147274653312\n",
      "--------------\n",
      "when test size is 0.5904081632653061\n",
      "train MSR is 17.119852583677467\n",
      "test MSR is 25.17419690999337\n",
      "--------------\n",
      "when test size is 0.6085714285714285\n",
      "train MSR is 27.021885543373074\n",
      "test MSR is 19.252482264720648\n",
      "--------------\n",
      "when test size is 0.626734693877551\n",
      "train MSR is 17.313940601458228\n",
      "test MSR is 25.47897210645767\n",
      "--------------\n",
      "when test size is 0.6448979591836734\n",
      "train MSR is 22.593775131331704\n",
      "test MSR is 23.747056925085484\n",
      "--------------\n",
      "when test size is 0.6630612244897959\n",
      "train MSR is 18.29752837408423\n",
      "test MSR is 24.597530138864613\n",
      "--------------\n",
      "when test size is 0.6812244897959183\n",
      "train MSR is 18.48689103285738\n",
      "test MSR is 25.72342737290404\n",
      "--------------\n",
      "when test size is 0.6993877551020408\n",
      "train MSR is 15.945688910415308\n",
      "test MSR is 26.438597227535787\n",
      "--------------\n",
      "when test size is 0.7175510204081632\n",
      "train MSR is 20.648094424747104\n",
      "test MSR is 22.284249903531833\n",
      "--------------\n",
      "when test size is 0.7357142857142857\n",
      "train MSR is 18.912061390529022\n",
      "test MSR is 23.55209938988514\n",
      "--------------\n",
      "when test size is 0.7538775510204081\n",
      "train MSR is 20.273406307518545\n",
      "test MSR is 23.23688913330333\n",
      "--------------\n",
      "when test size is 0.7720408163265305\n",
      "train MSR is 16.7641477164083\n",
      "test MSR is 24.987845077281495\n",
      "--------------\n",
      "when test size is 0.790204081632653\n",
      "train MSR is 14.927743606204405\n",
      "test MSR is 24.336957395320734\n",
      "--------------\n",
      "when test size is 0.8083673469387754\n",
      "train MSR is 21.59642658754936\n",
      "test MSR is 22.61784984885303\n",
      "--------------\n",
      "when test size is 0.8265306122448979\n",
      "train MSR is 24.298821774944408\n",
      "test MSR is 23.113861946825796\n",
      "--------------\n",
      "when test size is 0.8446938775510203\n",
      "train MSR is 19.37732902353674\n",
      "test MSR is 25.239746689337633\n",
      "--------------\n",
      "when test size is 0.8628571428571428\n",
      "train MSR is 22.081455600781155\n",
      "test MSR is 27.62375019111171\n",
      "--------------\n",
      "when test size is 0.8810204081632652\n",
      "train MSR is 25.584057202261057\n",
      "test MSR is 21.76277566671951\n",
      "--------------\n",
      "when test size is 0.8991836734693877\n",
      "train MSR is 16.260272442674907\n",
      "test MSR is 25.518492595190853\n",
      "--------------\n",
      "when test size is 0.9173469387755101\n",
      "train MSR is 19.627667705122\n",
      "test MSR is 24.81030059361443\n",
      "--------------\n",
      "when test size is 0.9355102040816325\n",
      "train MSR is 6.348509711774319\n",
      "test MSR is 28.084178983129245\n",
      "--------------\n",
      "when test size is 0.953673469387755\n",
      "train MSR is 12.61524777404338\n",
      "test MSR is 30.895105596406633\n",
      "--------------\n",
      "when test size is 0.9718367346938775\n",
      "train MSR is 7.2213267649215975\n",
      "test MSR is 36.427329210455376\n",
      "--------------\n",
      "when test size is 0.99\n",
      "train MSR is 7.888609052210118e-29\n",
      "test MSR is 430.07268000828975\n",
      "--------------\n"
     ]
    }
   ],
   "source": [
    "training_error = []\n",
    "testing_error = []\n",
    "for i in np.linspace(0.1,0.99,50):\n",
    "    x_train, x_test, y_train, y_np.linspace(0.1,0.99,50)test = train_test_split(X, y, test_size = i)\n",
    "    linreg = LinearRegression()\n",
    "    result = linreg.fit(x_train, y_train)\n",
    "    y_hat_train = linreg.predict(x_train)\n",
    "    y_hat_test = linreg.predict(x_test)\n",
    "    training_error.append(mean_squared_error(y_train, y_hat_train))\n",
    "    testing_error.append(mean_squared_error(y_test, y_hat_test))\n",
    "    print(f'when test size is {i}')\n",
    "    print(f'train MSR is {mean_squared_error(y_train, y_hat_train)}')\n",
    "    print(f'test MSR is {mean_squared_error(y_test, y_hat_test)}')\n",
    "    print('--------------')\n",
    "    "
   ]
  },
  {
   "cell_type": "code",
   "execution_count": 68,
   "metadata": {},
   "outputs": [
    {
     "data": {
      "text/plain": [
       "<matplotlib.collections.PathCollection at 0x7ffa0b6b80b8>"
      ]
     },
     "execution_count": 68,
     "metadata": {},
     "output_type": "execute_result"
    },
    {
     "data": {
      "image/png": "[encoded data removed]",
      "text/plain": [
       "<Figure size 432x288 with 1 Axes>"
      ]
     },
     "metadata": {
      "needs_background": "light"
     },
     "output_type": "display_data"
    }
   ],
   "source": [
    "import matplotlib.pyplot as plt\n",
    "plt.scatter(np.linspace(0.1,0.99,50), testing_error)"
   ]
  },
  {
   "cell_type": "markdown",
   "metadata": {},
   "source": [
    "# Evaluating the effect of train-test split size: extension\n",
    "\n",
    "Repeat the previous example, but for each train-test split size, generate 100 iterations of models/errors and save the average train/test error. This will help account for any particularly good/bad models that might have resulted from poor/good splits in the data. "
   ]
  },
  {
   "cell_type": "code",
   "execution_count": 13,
   "metadata": {},
   "outputs": [
    {
     "data": {
      "text/plain": [
       "<matplotlib.legend.Legend at 0x1a26e93438>"
      ]
     },
     "execution_count": 13,
     "metadata": {},
     "output_type": "execute_result"
    },
    {
     "data": {
      "image/png": "[encoded data removed]",
      "text/plain": [
       "<matplotlib.figure.Figure at 0x1a217d3da0>"
      ]
     },
     "metadata": {},
     "output_type": "display_data"
    }
   ],
   "source": []
  },
  {
   "cell_type": "markdown",
   "metadata": {},
   "source": [
    "What's happening here? evaluate your result!"
   ]
  },
  {
   "cell_type": "markdown",
   "metadata": {},
   "source": [
    "##  Summary "
   ]
  },
  {
   "cell_type": "markdown",
   "metadata": {},
   "source": [
    "Congratulations! You now practiced your knowledge on MSE and on using train-test-split."
   ]
  }
 ],
 "metadata": {
  "kernelspec": {
   "display_name": "Python 3",
   "language": "python",
   "name": "python3"
  },
  "language_info": {
   "codemirror_mode": {
    "name": "ipython",
    "version": 3
   },
   "file_extension": ".py",
   "mimetype": "text/x-python",
   "name": "python",
   "nbconvert_exporter": "python",
   "pygments_lexer": "ipython3",
   "version": "3.6.6"
  }
 },
 "nbformat": 4,
 "nbformat_minor": 2
}
