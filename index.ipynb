{
 "cells": [
  {
   "cell_type": "markdown",
   "metadata": {},
   "source": [
    "# Regression Model Validation - Lab\n",
    "\n",
    "## Introduction\n",
    "\n",
    "In this lab, you'll be able to validate your model using train-test-split.\n",
    "\n",
    "\n",
    "## Objectives\n",
    "\n",
    "You will be able to:\n",
    "\n",
    "- Calculate the mean squared error (MSE) as a measure of predictive performance\n",
    "- Validate the model using the test data\n"
   ]
  },
  {
   "cell_type": "markdown",
   "metadata": {},
   "source": [
    "## Let's use our Boston Housing Data again!\n",
    "\n",
    "This time, let's only include the variables that were previously selected using recursive feature elimination. We included the code to preprocess below."
   ]
  },
  {
   "cell_type": "code",
   "execution_count": 88,
   "metadata": {},
   "outputs": [],
   "source": [
    "import pandas as pd\n",
    "import numpy as np\n",
    "import matplotlib.pyplot as plt\n",
    "%matplotlib inline\n",
    "from sklearn.datasets import load_boston\n",
    "\n",
    "boston = load_boston()\n",
    "\n",
    "boston_features = pd.DataFrame(boston.data, columns = boston.feature_names)\n",
    "b = boston_features[\"B\"]\n",
    "logdis = np.log(boston_features[\"DIS\"])\n",
    "loglstat = np.log(boston_features[\"LSTAT\"])\n",
    "\n",
    "# minmax scaling\n",
    "boston_features[\"B\"] = (b-min(b))/(max(b)-min(b))\n",
    "boston_features[\"DIS\"] = (logdis-min(logdis))/(max(logdis)-min(logdis))\n",
    "\n",
    "#standardization\n",
    "boston_features[\"LSTAT\"] = (loglstat-np.mean(loglstat))/np.sqrt(np.var(loglstat))"
   ]
  },
  {
   "cell_type": "code",
   "execution_count": 89,
   "metadata": {},
   "outputs": [],
   "source": [
    "X = boston_features[['CHAS', 'RM', 'DIS', 'B', 'LSTAT']]\n",
    "y = boston.target"
   ]
  },
  {
   "cell_type": "markdown",
   "metadata": {},
   "source": [
    "## Perform a train-test-split"
   ]
  },
  {
   "cell_type": "code",
   "execution_count": 90,
   "metadata": {},
   "outputs": [],
   "source": [
    "from sklearn.model_selection import train_test_split"
   ]
  },
  {
   "cell_type": "code",
   "execution_count": 91,
   "metadata": {},
   "outputs": [],
   "source": [
    "x_train, x_test, y_train, y_test = train_test_split(X, y, test_size = 0.2)"
   ]
  },
  {
   "cell_type": "code",
   "execution_count": 92,
   "metadata": {},
   "outputs": [
    {
     "name": "stdout",
     "output_type": "stream",
     "text": [
      "404 404 102 102\n"
     ]
    }
   ],
   "source": [
    "print(len(x_train), len(y_train), len(x_test), len(y_test))\n"
   ]
  },
  {
   "cell_type": "markdown",
   "metadata": {},
   "source": [
    "## Apply your model to the train set"
   ]
  },
  {
   "cell_type": "markdown",
   "metadata": {},
   "source": [
    "#### Importing and initializing the model class"
   ]
  },
  {
   "cell_type": "code",
   "execution_count": 93,
   "metadata": {},
   "outputs": [],
   "source": [
    "from sklearn.linear_model import LinearRegression"
   ]
  },
  {
   "cell_type": "code",
   "execution_count": 94,
   "metadata": {},
   "outputs": [],
   "source": [
    "linreg = LinearRegression()"
   ]
  },
  {
   "cell_type": "markdown",
   "metadata": {},
   "source": [
    "#### Fitting the model to the train data"
   ]
  },
  {
   "cell_type": "code",
   "execution_count": 95,
   "metadata": {},
   "outputs": [],
   "source": [
    "result = linreg.fit(x_train, y_train)"
   ]
  },
  {
   "cell_type": "code",
   "execution_count": 96,
   "metadata": {},
   "outputs": [
    {
     "data": {
      "text/plain": [
       "array([ 2.33506328,  3.30878875, -6.32515701,  5.17410746, -6.27292772])"
      ]
     },
     "execution_count": 96,
     "metadata": {},
     "output_type": "execute_result"
    }
   ],
   "source": [
    "result.coef_"
   ]
  },
  {
   "cell_type": "markdown",
   "metadata": {},
   "source": [
    "#### Calculating predictions on the train set, and on the test set"
   ]
  },
  {
   "cell_type": "code",
   "execution_count": 97,
   "metadata": {},
   "outputs": [],
   "source": [
    "y_hat_train = linreg.predict(x_train)\n",
    "y_hat_test = linreg.predict(x_test)"
   ]
  },
  {
   "cell_type": "markdown",
   "metadata": {},
   "source": [
    "#### Calculating your residuals"
   ]
  },
  {
   "cell_type": "code",
   "execution_count": 98,
   "metadata": {},
   "outputs": [],
   "source": [
    "train_res = y_hat_train - y_train\n",
    "test_res = y_hat_test - y_test"
   ]
  },
  {
   "cell_type": "markdown",
   "metadata": {},
   "source": [
    "#### Calculating the Mean Squared Error\n",
    "A good way to compare overall performance is to compare the mean squarred error for the predicted values on the train and test sets."
   ]
  },
  {
   "cell_type": "code",
   "execution_count": 99,
   "metadata": {},
   "outputs": [],
   "source": [
    "from sklearn.metrics import mean_squared_error"
   ]
  },
  {
   "cell_type": "code",
   "execution_count": 100,
   "metadata": {
    "scrolled": true
   },
   "outputs": [
    {
     "data": {
      "text/plain": [
       "22.28795974622455"
      ]
     },
     "execution_count": 100,
     "metadata": {},
     "output_type": "execute_result"
    }
   ],
   "source": [
    "mean_squared_error(y_train, y_hat_train)"
   ]
  },
  {
   "cell_type": "code",
   "execution_count": 101,
   "metadata": {},
   "outputs": [
    {
     "data": {
      "text/plain": [
       "19.6289736636091"
      ]
     },
     "execution_count": 101,
     "metadata": {},
     "output_type": "execute_result"
    }
   ],
   "source": [
    "mean_squared_error(y_test, y_hat_test)"
   ]
  },
  {
   "cell_type": "markdown",
   "metadata": {},
   "source": [
    "If your test error is substantially worse then our train error, this is a sign that our model doesn't generalize well to future cases."
   ]
  },
  {
   "cell_type": "markdown",
   "metadata": {},
   "source": [
    "One simple way to demonstrate overfitting and underfitting is to alter the size of our train test split. By default, scikit learn's built in method allocates 25% of the data to the test set and 75% to the training set. Fitting a model on only 10% of the data is apt to lead to underfitting, while training a model on 99% of the data is apt to lead to overfitting."
   ]
  },
  {
   "cell_type": "markdown",
   "metadata": {},
   "source": [
    "# Evaluating the effect of train-test split size\n",
    "\n",
    "Iterate over a range of train-test split sizes from .5 to .95. For each of these, generate a new train/test split sample. Fit a model to the training sample and calculate both the training error and the test error (mse) for each of these splits. Plot these two curves (train error vs. training size and test error vs. training size) on a graph."
   ]
  },
  {
   "cell_type": "code",
   "execution_count": 102,
   "metadata": {},
   "outputs": [
    {
     "name": "stdout",
     "output_type": "stream",
     "text": [
      "when test size is 0.2\n",
      "train MSR is 23.010450306433796\n",
      "test MSR is 16.70790815320004\n",
      "--------------\n",
      "when test size is 0.2142857142857143\n",
      "train MSR is 21.84660924962656\n",
      "test MSR is 22.477951477887284\n",
      "--------------\n",
      "when test size is 0.2285714285714286\n",
      "train MSR is 22.76740286443656\n",
      "test MSR is 19.113256504560944\n",
      "--------------\n",
      "when test size is 0.24285714285714288\n",
      "train MSR is 20.638214401037683\n",
      "test MSR is 25.224509317644035\n",
      "--------------\n",
      "when test size is 0.2571428571428572\n",
      "train MSR is 21.937600661866167\n",
      "test MSR is 21.746929219300412\n",
      "--------------\n",
      "when test size is 0.27142857142857146\n",
      "train MSR is 20.851018691167827\n",
      "test MSR is 24.57915399941102\n",
      "--------------\n",
      "when test size is 0.2857142857142857\n",
      "train MSR is 25.446787009194708\n",
      "test MSR is 12.615127400321727\n",
      "--------------\n",
      "when test size is 0.3\n",
      "train MSR is 21.077741359570485\n",
      "test MSR is 23.99124148208667\n",
      "--------------\n",
      "when test size is 0.3142857142857143\n",
      "train MSR is 19.448401875992634\n",
      "test MSR is 27.594295305930093\n",
      "--------------\n",
      "when test size is 0.32857142857142857\n",
      "train MSR is 20.80675856356235\n",
      "test MSR is 25.465183033365093\n",
      "--------------\n",
      "when test size is 0.34285714285714286\n",
      "train MSR is 22.013209565323788\n",
      "test MSR is 21.68915791133536\n",
      "--------------\n",
      "when test size is 0.35714285714285715\n",
      "train MSR is 23.757634170448338\n",
      "test MSR is 18.473731186890234\n",
      "--------------\n",
      "when test size is 0.37142857142857144\n",
      "train MSR is 20.004405337835067\n",
      "test MSR is 24.682958691165474\n",
      "--------------\n",
      "when test size is 0.38571428571428573\n",
      "train MSR is 22.163260792614306\n",
      "test MSR is 21.884474263902863\n",
      "--------------\n",
      "when test size is 0.4\n",
      "train MSR is 22.113067642633055\n",
      "test MSR is 23.26077427339183\n",
      "--------------\n",
      "when test size is 0.41428571428571426\n",
      "train MSR is 23.059901344418687\n",
      "test MSR is 20.770124230198988\n",
      "--------------\n",
      "when test size is 0.4285714285714286\n",
      "train MSR is 20.677722585862533\n",
      "test MSR is 23.783041722734147\n",
      "--------------\n",
      "when test size is 0.44285714285714284\n",
      "train MSR is 20.646413654739945\n",
      "test MSR is 24.26055666204325\n",
      "--------------\n",
      "when test size is 0.45714285714285713\n",
      "train MSR is 21.078019179086162\n",
      "test MSR is 22.541384834144754\n",
      "--------------\n",
      "when test size is 0.4714285714285714\n",
      "train MSR is 20.892378484579567\n",
      "test MSR is 22.984465342354294\n",
      "--------------\n",
      "when test size is 0.4857142857142857\n",
      "train MSR is 20.67862830506944\n",
      "test MSR is 23.384608780060773\n",
      "--------------\n",
      "when test size is 0.5\n",
      "train MSR is 21.355228954689103\n",
      "test MSR is 23.355690731785735\n",
      "--------------\n",
      "when test size is 0.5142857142857142\n",
      "train MSR is 22.970046202187454\n",
      "test MSR is 20.873896579152657\n",
      "--------------\n",
      "when test size is 0.5285714285714286\n",
      "train MSR is 24.59972786804362\n",
      "test MSR is 20.1995420078381\n",
      "--------------\n",
      "when test size is 0.5428571428571429\n",
      "train MSR is 22.633740573867154\n",
      "test MSR is 21.429006057195252\n",
      "--------------\n",
      "when test size is 0.5571428571428572\n",
      "train MSR is 21.565016559568726\n",
      "test MSR is 22.990681700653475\n",
      "--------------\n",
      "when test size is 0.5714285714285714\n",
      "train MSR is 25.861296800638687\n",
      "test MSR is 19.78227837197275\n",
      "--------------\n",
      "when test size is 0.5857142857142856\n",
      "train MSR is 22.440308691550335\n",
      "test MSR is 21.93029783246961\n",
      "--------------\n",
      "when test size is 0.6\n",
      "train MSR is 17.782910077700127\n",
      "test MSR is 26.448274650553383\n",
      "--------------\n",
      "when test size is 0.6142857142857143\n",
      "train MSR is 22.957315771100365\n",
      "test MSR is 21.79364315968151\n",
      "--------------\n",
      "when test size is 0.6285714285714286\n",
      "train MSR is 21.579239793346794\n",
      "test MSR is 23.216067413040346\n",
      "--------------\n",
      "when test size is 0.6428571428571428\n",
      "train MSR is 24.9152395959696\n",
      "test MSR is 20.7605747375746\n",
      "--------------\n",
      "when test size is 0.6571428571428571\n",
      "train MSR is 16.968268948578935\n",
      "test MSR is 24.632340330993486\n",
      "--------------\n",
      "when test size is 0.6714285714285715\n",
      "train MSR is 19.076378142664243\n",
      "test MSR is 24.439625410774877\n",
      "--------------\n",
      "when test size is 0.6857142857142857\n",
      "train MSR is 20.60376541212371\n",
      "test MSR is 24.142356024890216\n",
      "--------------\n",
      "when test size is 0.7\n",
      "train MSR is 19.092076124543116\n",
      "test MSR is 24.03860963792832\n",
      "--------------\n",
      "when test size is 0.7142857142857142\n",
      "train MSR is 27.528618649081523\n",
      "test MSR is 20.21070199437914\n",
      "--------------\n",
      "when test size is 0.7285714285714286\n",
      "train MSR is 22.47727268194399\n",
      "test MSR is 22.975092041138062\n",
      "--------------\n",
      "when test size is 0.7428571428571429\n",
      "train MSR is 18.326544402535077\n",
      "test MSR is 24.068025913980495\n",
      "--------------\n",
      "when test size is 0.7571428571428571\n",
      "train MSR is 14.436019832921335\n",
      "test MSR is 27.138679757796414\n",
      "--------------\n",
      "when test size is 0.7714285714285714\n",
      "train MSR is 21.16411994277087\n",
      "test MSR is 24.958112819622283\n",
      "--------------\n",
      "when test size is 0.7857142857142858\n",
      "train MSR is 18.155857430600154\n",
      "test MSR is 26.60360755327184\n",
      "--------------\n",
      "when test size is 0.8\n",
      "train MSR is 32.33762501823442\n",
      "test MSR is 20.422526425997887\n",
      "--------------\n",
      "when test size is 0.8142857142857143\n",
      "train MSR is 22.42167925771999\n",
      "test MSR is 24.242962807137328\n",
      "--------------\n",
      "when test size is 0.8285714285714285\n",
      "train MSR is 18.519908102020466\n",
      "test MSR is 23.872434272146542\n",
      "--------------\n",
      "when test size is 0.8428571428571427\n",
      "train MSR is 22.158261081539624\n",
      "test MSR is 23.00052485850007\n",
      "--------------\n",
      "when test size is 0.8571428571428572\n",
      "train MSR is 18.900040105576462\n",
      "test MSR is 26.13296467848873\n",
      "--------------\n",
      "when test size is 0.8714285714285714\n",
      "train MSR is 11.25877677497856\n",
      "test MSR is 25.151561840986663\n",
      "--------------\n",
      "when test size is 0.8857142857142857\n",
      "train MSR is 14.221387859870044\n",
      "test MSR is 23.506587067876602\n",
      "--------------\n",
      "when test size is 0.9\n",
      "train MSR is 27.25908318001599\n",
      "test MSR is 27.32246072329492\n",
      "--------------\n"
     ]
    }
   ],
   "source": [
    "training_error = []\n",
    "testing_error = []\n",
    "training_size = []\n",
    "for i in np.linspace(0.2,0.9,50):\n",
    "    x_train, x_test, y_train, y_test = train_test_split(X, y, test_size = i)\n",
    "    training_size.append(len(x_train))\n",
    "    linreg = LinearRegression()\n",
    "    result = linreg.fit(x_train, y_train)\n",
    "    y_hat_train = linreg.predict(x_train)\n",
    "    y_hat_test = linreg.predict(x_test)\n",
    "    training_error.append(mean_squared_error(y_train, y_hat_train))\n",
    "    testing_error.append(mean_squared_error(y_test, y_hat_test))\n",
    "    print(f'when test size is {i}')\n",
    "    print(f'train MSR is {mean_squared_error(y_train, y_hat_train)}')\n",
    "    print(f'test MSR is {mean_squared_error(y_test, y_hat_test)}')\n",
    "    print('--------------')\n",
    "    "
   ]
  },
  {
   "cell_type": "code",
   "execution_count": 104,
   "metadata": {},
   "outputs": [
    {
     "data": {
      "text/plain": [
       "<matplotlib.collections.PathCollection at 0x7ffa0b516e10>"
      ]
     },
     "execution_count": 104,
     "metadata": {},
     "output_type": "execute_result"
    },
    {
     "data": {
      "image/png": "[encoded data removed]",
      "text/plain": [
       "<Figure size 432x288 with 1 Axes>"
      ]
     },
     "metadata": {
      "needs_background": "light"
     },
     "output_type": "display_data"
    }
   ],
   "source": [
    "import matplotlib.pyplot as plt\n",
    "plt.scatter(training_size, testing_error)\n",
    "plt.scatter(training_size, testing_error)"
   ]
  },
  {
   "cell_type": "markdown",
   "metadata": {},
   "source": [
    "# Evaluating the effect of train-test split size: extension\n",
    "\n",
    "Repeat the previous example, but for each train-test split size, generate 100 iterations of models/errors and save the average train/test error. This will help account for any particularly good/bad models that might have resulted from poor/good splits in the data. "
   ]
  },
  {
   "cell_type": "code",
   "execution_count": 13,
   "metadata": {},
   "outputs": [
    {
     "data": {
      "text/plain": [
       "<matplotlib.legend.Legend at 0x1a26e93438>"
      ]
     },
     "execution_count": 13,
     "metadata": {},
     "output_type": "execute_result"
    },
    {
     "data": {
      "image/png": "[encoded data removed]",
      "text/plain": [
       "<matplotlib.figure.Figure at 0x1a217d3da0>"
      ]
     },
     "metadata": {},
     "output_type": "display_data"
    }
   ],
   "source": []
  },
  {
   "cell_type": "markdown",
   "metadata": {},
   "source": [
    "What's happening here? evaluate your result!"
   ]
  },
  {
   "cell_type": "markdown",
   "metadata": {},
   "source": [
    "##  Summary "
   ]
  },
  {
   "cell_type": "markdown",
   "metadata": {},
   "source": [
    "Congratulations! You now practiced your knowledge on MSE and on using train-test-split."
   ]
  }
 ],
 "metadata": {
  "kernelspec": {
   "display_name": "Python 3",
   "language": "python",
   "name": "python3"
  },
  "language_info": {
   "codemirror_mode": {
    "name": "ipython",
    "version": 3
   },
   "file_extension": ".py",
   "mimetype": "text/x-python",
   "name": "python",
   "nbconvert_exporter": "python",
   "pygments_lexer": "ipython3",
   "version": "3.6.6"
  }
 },
 "nbformat": 4,
 "nbformat_minor": 2
}
