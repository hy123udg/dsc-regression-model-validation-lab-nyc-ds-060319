{
 "cells": [
  {
   "cell_type": "markdown",
   "metadata": {},
   "source": [
    "# Regression Model Validation - Lab\n",
    "\n",
    "## Introduction\n",
    "\n",
    "In this lab, you'll be able to validate your model using train-test-split.\n",
    "\n",
    "\n",
    "## Objectives\n",
    "\n",
    "You will be able to:\n",
    "\n",
    "- Calculate the mean squared error (MSE) as a measure of predictive performance\n",
    "- Validate the model using the test data\n"
   ]
  },
  {
   "cell_type": "markdown",
   "metadata": {},
   "source": [
    "## Let's use our Boston Housing Data again!\n",
    "\n",
    "This time, let's only include the variables that were previously selected using recursive feature elimination. We included the code to preprocess below."
   ]
  },
  {
   "cell_type": "code",
   "execution_count": 111,
   "metadata": {},
   "outputs": [],
   "source": [
    "import pandas as pd\n",
    "import numpy as np\n",
    "import matplotlib.pyplot as plt\n",
    "%matplotlib inline\n",
    "from sklearn.datasets import load_boston\n",
    "\n",
    "boston = load_boston()\n",
    "\n",
    "boston_features = pd.DataFrame(boston.data, columns = boston.feature_names)\n",
    "b = boston_features[\"B\"]\n",
    "logdis = np.log(boston_features[\"DIS\"])\n",
    "loglstat = np.log(boston_features[\"LSTAT\"])\n",
    "\n",
    "# minmax scaling\n",
    "boston_features[\"B\"] = (b-min(b))/(max(b)-min(b))\n",
    "boston_features[\"DIS\"] = (logdis-min(logdis))/(max(logdis)-min(logdis))\n",
    "\n",
    "#standardization\n",
    "boston_features[\"LSTAT\"] = (loglstat-np.mean(loglstat))/np.sqrt(np.var(loglstat))"
   ]
  },
  {
   "cell_type": "code",
   "execution_count": 112,
   "metadata": {},
   "outputs": [],
   "source": [
    "X = boston_features[['CHAS', 'RM', 'DIS', 'B', 'LSTAT']]\n",
    "y = boston.target"
   ]
  },
  {
   "cell_type": "markdown",
   "metadata": {},
   "source": [
    "## Perform a train-test-split"
   ]
  },
  {
   "cell_type": "code",
   "execution_count": 113,
   "metadata": {},
   "outputs": [],
   "source": [
    "from sklearn.model_selection import train_test_split"
   ]
  },
  {
   "cell_type": "code",
   "execution_count": 114,
   "metadata": {},
   "outputs": [],
   "source": [
    "x_train, x_test, y_train, y_test = train_test_split(X, y, test_size = 0.2)"
   ]
  },
  {
   "cell_type": "code",
   "execution_count": 115,
   "metadata": {},
   "outputs": [
    {
     "name": "stdout",
     "output_type": "stream",
     "text": [
      "404 404 102 102\n"
     ]
    }
   ],
   "source": [
    "print(len(x_train), len(y_train), len(x_test), len(y_test))\n"
   ]
  },
  {
   "cell_type": "markdown",
   "metadata": {},
   "source": [
    "## Apply your model to the train set"
   ]
  },
  {
   "cell_type": "markdown",
   "metadata": {},
   "source": [
    "#### Importing and initializing the model class"
   ]
  },
  {
   "cell_type": "code",
   "execution_count": 116,
   "metadata": {},
   "outputs": [],
   "source": [
    "from sklearn.linear_model import LinearRegression"
   ]
  },
  {
   "cell_type": "code",
   "execution_count": 117,
   "metadata": {},
   "outputs": [],
   "source": [
    "linreg = LinearRegression()"
   ]
  },
  {
   "cell_type": "markdown",
   "metadata": {},
   "source": [
    "#### Fitting the model to the train data"
   ]
  },
  {
   "cell_type": "code",
   "execution_count": 118,
   "metadata": {},
   "outputs": [],
   "source": [
    "result = linreg.fit(x_train, y_train)"
   ]
  },
  {
   "cell_type": "code",
   "execution_count": 119,
   "metadata": {},
   "outputs": [
    {
     "data": {
      "text/plain": [
       "array([ 2.72666076,  3.67208742, -6.04741926,  4.38706479, -6.13151226])"
      ]
     },
     "execution_count": 119,
     "metadata": {},
     "output_type": "execute_result"
    }
   ],
   "source": [
    "result.coef_"
   ]
  },
  {
   "cell_type": "markdown",
   "metadata": {},
   "source": [
    "#### Calculating predictions on the train set, and on the test set"
   ]
  },
  {
   "cell_type": "code",
   "execution_count": 120,
   "metadata": {},
   "outputs": [],
   "source": [
    "y_hat_train = linreg.predict(x_train)\n",
    "y_hat_test = linreg.predict(x_test)"
   ]
  },
  {
   "cell_type": "markdown",
   "metadata": {},
   "source": [
    "#### Calculating your residuals"
   ]
  },
  {
   "cell_type": "code",
   "execution_count": 121,
   "metadata": {},
   "outputs": [],
   "source": [
    "train_res = y_hat_train - y_train\n",
    "test_res = y_hat_test - y_test"
   ]
  },
  {
   "cell_type": "markdown",
   "metadata": {},
   "source": [
    "#### Calculating the Mean Squared Error\n",
    "A good way to compare overall performance is to compare the mean squarred error for the predicted values on the train and test sets."
   ]
  },
  {
   "cell_type": "code",
   "execution_count": 122,
   "metadata": {},
   "outputs": [],
   "source": [
    "from sklearn.metrics import mean_squared_error"
   ]
  },
  {
   "cell_type": "code",
   "execution_count": 123,
   "metadata": {
    "scrolled": true
   },
   "outputs": [
    {
     "data": {
      "text/plain": [
       "21.166960185387655"
      ]
     },
     "execution_count": 123,
     "metadata": {},
     "output_type": "execute_result"
    }
   ],
   "source": [
    "mean_squared_error(y_train, y_hat_train)"
   ]
  },
  {
   "cell_type": "code",
   "execution_count": 124,
   "metadata": {},
   "outputs": [
    {
     "data": {
      "text/plain": [
       "23.946729697075426"
      ]
     },
     "execution_count": 124,
     "metadata": {},
     "output_type": "execute_result"
    }
   ],
   "source": [
    "mean_squared_error(y_test, y_hat_test)"
   ]
  },
  {
   "cell_type": "markdown",
   "metadata": {},
   "source": [
    "If your test error is substantially worse then our train error, this is a sign that our model doesn't generalize well to future cases."
   ]
  },
  {
   "cell_type": "markdown",
   "metadata": {},
   "source": [
    "One simple way to demonstrate overfitting and underfitting is to alter the size of our train test split. By default, scikit learn's built in method allocates 25% of the data to the test set and 75% to the training set. Fitting a model on only 10% of the data is apt to lead to underfitting, while training a model on 99% of the data is apt to lead to overfitting."
   ]
  },
  {
   "cell_type": "markdown",
   "metadata": {},
   "source": [
    "# Evaluating the effect of train-test split size\n",
    "\n",
    "Iterate over a range of train-test split sizes from .5 to .95. For each of these, generate a new train/test split sample. Fit a model to the training sample and calculate both the training error and the test error (mse) for each of these splits. Plot these two curves (train error vs. training size and test error vs. training size) on a graph."
   ]
  },
  {
   "cell_type": "code",
   "execution_count": 125,
   "metadata": {},
   "outputs": [
    {
     "name": "stdout",
     "output_type": "stream",
     "text": [
      "when test size is 0.2\n",
      "train MSR is 22.085917713454993\n",
      "test MSR is 20.793532315035126\n",
      "--------------\n",
      "when test size is 0.2368421052631579\n",
      "train MSR is 18.656743530058232\n",
      "test MSR is 31.7848738321031\n",
      "--------------\n",
      "when test size is 0.2736842105263158\n",
      "train MSR is 21.572433819672842\n",
      "test MSR is 22.31596250646466\n",
      "--------------\n",
      "when test size is 0.31052631578947365\n",
      "train MSR is 21.297168910041663\n",
      "test MSR is 23.256839076341077\n",
      "--------------\n",
      "when test size is 0.34736842105263155\n",
      "train MSR is 22.579893652767296\n",
      "test MSR is 20.6457236422784\n",
      "--------------\n",
      "when test size is 0.38421052631578945\n",
      "train MSR is 22.25140220645042\n",
      "test MSR is 21.53205980469985\n",
      "--------------\n",
      "when test size is 0.42105263157894735\n",
      "train MSR is 22.38846035484024\n",
      "test MSR is 21.823504215359605\n",
      "--------------\n",
      "when test size is 0.45789473684210524\n",
      "train MSR is 23.038803162783765\n",
      "test MSR is 20.44780953719039\n",
      "--------------\n",
      "when test size is 0.49473684210526314\n",
      "train MSR is 19.740365854856087\n",
      "test MSR is 24.777142897691125\n",
      "--------------\n",
      "when test size is 0.531578947368421\n",
      "train MSR is 24.72601467811336\n",
      "test MSR is 19.59816443228635\n",
      "--------------\n",
      "when test size is 0.5684210526315789\n",
      "train MSR is 22.144238666321392\n",
      "test MSR is 21.76645256247656\n",
      "--------------\n",
      "when test size is 0.6052631578947368\n",
      "train MSR is 17.13764022543406\n",
      "test MSR is 26.67277819329383\n",
      "--------------\n",
      "when test size is 0.6421052631578947\n",
      "train MSR is 18.232133176399756\n",
      "test MSR is 24.71351196881236\n",
      "--------------\n",
      "when test size is 0.6789473684210525\n",
      "train MSR is 26.604587997064204\n",
      "test MSR is 20.13777381221174\n",
      "--------------\n",
      "when test size is 0.7157894736842105\n",
      "train MSR is 21.258209525646134\n",
      "test MSR is 26.8976395254721\n",
      "--------------\n",
      "when test size is 0.7526315789473683\n",
      "train MSR is 14.937100029922572\n",
      "test MSR is 26.56560885042823\n",
      "--------------\n",
      "when test size is 0.7894736842105263\n",
      "train MSR is 12.90591867844322\n",
      "test MSR is 30.001177506253672\n",
      "--------------\n",
      "when test size is 0.8263157894736841\n",
      "train MSR is 22.70631097631125\n",
      "test MSR is 24.242473750821212\n",
      "--------------\n",
      "when test size is 0.8631578947368421\n",
      "train MSR is 17.406425973619534\n",
      "test MSR is 25.30890706744145\n",
      "--------------\n",
      "when test size is 0.9\n",
      "train MSR is 18.285947280840993\n",
      "test MSR is 25.3001395280668\n",
      "--------------\n"
     ]
    }
   ],
   "source": [
    "training_error = []\n",
    "testing_error = []\n",
    "training_size = []\n",
    "for i in np.linspace(0.2,0.9,20):\n",
    "    x_train, x_test, y_train, y_test = train_test_split(X, y, test_size = i)\n",
    "    training_size.append(len(x_train))\n",
    "    linreg = LinearRegression()\n",
    "    result = linreg.fit(x_train, y_train)\n",
    "    y_hat_train = linreg.predict(x_train)\n",
    "    y_hat_test = linreg.predict(x_test)\n",
    "    training_error.append(mean_squared_error(y_train, y_hat_train))\n",
    "    testing_error.append(mean_squared_error(y_test, y_hat_test))\n",
    "    print(f'when test size is {i}')\n",
    "    print(f'train MSR is {mean_squared_error(y_train, y_hat_train)}')\n",
    "    print(f'test MSR is {mean_squared_error(y_test, y_hat_test)}')\n",
    "    print('--------------')\n",
    "    "
   ]
  },
  {
   "cell_type": "code",
   "execution_count": 126,
   "metadata": {},
   "outputs": [
    {
     "data": {
      "text/plain": [
       "<matplotlib.collections.PathCollection at 0x7ffa0b30b518>"
      ]
     },
     "execution_count": 126,
     "metadata": {},
     "output_type": "execute_result"
    },
    {
     "data": {
      "image/png": "[encoded data removed]",
      "text/plain": [
       "<Figure size 432x288 with 1 Axes>"
      ]
     },
     "metadata": {
      "needs_background": "light"
     },
     "output_type": "display_data"
    }
   ],
   "source": [
    "import matplotlib.pyplot as plt\n",
    "plt.scatter(training_size, training_error, c = 'r')\n",
    "plt.scatter(training_size, testing_error, c = 'b')"
   ]
  },
  {
   "cell_type": "markdown",
   "metadata": {},
   "source": [
    "# Evaluating the effect of train-test split size: extension\n",
    "\n",
    "Repeat the previous example, but for each train-test split size, generate 100 iterations of models/errors and save the average train/test error. This will help account for any particularly good/bad models that might have resulted from poor/good splits in the data. "
   ]
  },
  {
   "cell_type": "code",
   "execution_count": null,
   "metadata": {},
   "outputs": [],
   "source": [
    "training_error = []\n",
    "testing_error = []\n",
    "training_size = []\n",
    "for i in np.linspace(0.2,0.9,20):\n",
    "    train_error = []\n",
    "    test_error = []\n",
    "    for j in range(100):\n",
    "        x_train, x_test, y_train, y_test = train_test_split(X, y, test_size = i)\n",
    "        linreg = LinearRegression()\n",
    "        result = linreg.fit(x_train, y_train)\n",
    "        y_hat_train = linreg.predict(x_train)\n",
    "        y_hat_test = linreg.predict(x_test)\n",
    "        train_error.append(mean_squared_error(y_train, y_hat_train))\n",
    "        test_error.append(mean_squared_error(y_test, y_hat_test))\n",
    "    training_error.append(np.mean(train_error))\n",
    "    testing_error.append(np.mean(test_error))\n",
    "plt.scatter(training_size, training_error, c = 'r', label = 'training error')\n",
    "plt.scatter(training_size, testing_error, c = 'b', label = 'testing error')\n",
    "plt.legend()"
   ]
  },
  {
   "cell_type": "markdown",
   "metadata": {},
   "source": [
    "What's happening here? evaluate your result!"
   ]
  },
  {
   "cell_type": "markdown",
   "metadata": {},
   "source": [
    "##  Summary "
   ]
  },
  {
   "cell_type": "markdown",
   "metadata": {},
   "source": [
    "Congratulations! You now practiced your knowledge on MSE and on using train-test-split."
   ]
  }
 ],
 "metadata": {
  "kernelspec": {
   "display_name": "Python 3",
   "language": "python",
   "name": "python3"
  },
  "language_info": {
   "codemirror_mode": {
    "name": "ipython",
    "version": 3
   },
   "file_extension": ".py",
   "mimetype": "text/x-python",
   "name": "python",
   "nbconvert_exporter": "python",
   "pygments_lexer": "ipython3",
   "version": "3.6.6"
  }
 },
 "nbformat": 4,
 "nbformat_minor": 2
}
