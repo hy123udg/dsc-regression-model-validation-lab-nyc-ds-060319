{
 "cells": [
  {
   "cell_type": "markdown",
   "metadata": {},
   "source": [
    "# Regression Model Validation - Lab\n",
    "\n",
    "## Introduction\n",
    "\n",
    "In this lab, you'll be able to validate your model using train-test-split.\n",
    "\n",
    "\n",
    "## Objectives\n",
    "\n",
    "You will be able to:\n",
    "\n",
    "- Calculate the mean squared error (MSE) as a measure of predictive performance\n",
    "- Validate the model using the test data\n"
   ]
  },
  {
   "cell_type": "markdown",
   "metadata": {},
   "source": [
    "## Let's use our Boston Housing Data again!\n",
    "\n",
    "This time, let's only include the variables that were previously selected using recursive feature elimination. We included the code to preprocess below."
   ]
  },
  {
   "cell_type": "code",
   "execution_count": 72,
   "metadata": {},
   "outputs": [],
   "source": [
    "import pandas as pd\n",
    "import numpy as np\n",
    "import matplotlib.pyplot as plt\n",
    "%matplotlib inline\n",
    "from sklearn.datasets import load_boston\n",
    "\n",
    "boston = load_boston()\n",
    "\n",
    "boston_features = pd.DataFrame(boston.data, columns = boston.feature_names)\n",
    "b = boston_features[\"B\"]\n",
    "logdis = np.log(boston_features[\"DIS\"])\n",
    "loglstat = np.log(boston_features[\"LSTAT\"])\n",
    "\n",
    "# minmax scaling\n",
    "boston_features[\"B\"] = (b-min(b))/(max(b)-min(b))\n",
    "boston_features[\"DIS\"] = (logdis-min(logdis))/(max(logdis)-min(logdis))\n",
    "\n",
    "#standardization\n",
    "boston_features[\"LSTAT\"] = (loglstat-np.mean(loglstat))/np.sqrt(np.var(loglstat))"
   ]
  },
  {
   "cell_type": "code",
   "execution_count": 73,
   "metadata": {},
   "outputs": [],
   "source": [
    "X = boston_features[['CHAS', 'RM', 'DIS', 'B', 'LSTAT']]\n",
    "y = boston.target"
   ]
  },
  {
   "cell_type": "markdown",
   "metadata": {},
   "source": [
    "## Perform a train-test-split"
   ]
  },
  {
   "cell_type": "code",
   "execution_count": 74,
   "metadata": {},
   "outputs": [],
   "source": [
    "from sklearn.model_selection import train_test_split"
   ]
  },
  {
   "cell_type": "code",
   "execution_count": 75,
   "metadata": {},
   "outputs": [],
   "source": [
    "x_train, x_test, y_train, y_test = train_test_split(X, y, test_size = 0.2)"
   ]
  },
  {
   "cell_type": "code",
   "execution_count": 76,
   "metadata": {},
   "outputs": [
    {
     "name": "stdout",
     "output_type": "stream",
     "text": [
      "404 404 102 102\n"
     ]
    }
   ],
   "source": [
    "print(len(x_train), len(y_train), len(x_test), len(y_test))\n"
   ]
  },
  {
   "cell_type": "markdown",
   "metadata": {},
   "source": [
    "## Apply your model to the train set"
   ]
  },
  {
   "cell_type": "markdown",
   "metadata": {},
   "source": [
    "#### Importing and initializing the model class"
   ]
  },
  {
   "cell_type": "code",
   "execution_count": 77,
   "metadata": {},
   "outputs": [],
   "source": [
    "from sklearn.linear_model import LinearRegression"
   ]
  },
  {
   "cell_type": "code",
   "execution_count": 78,
   "metadata": {},
   "outputs": [],
   "source": [
    "linreg = LinearRegression()"
   ]
  },
  {
   "cell_type": "markdown",
   "metadata": {},
   "source": [
    "#### Fitting the model to the train data"
   ]
  },
  {
   "cell_type": "code",
   "execution_count": 79,
   "metadata": {},
   "outputs": [],
   "source": [
    "result = linreg.fit(x_train, y_train)"
   ]
  },
  {
   "cell_type": "code",
   "execution_count": 80,
   "metadata": {},
   "outputs": [
    {
     "data": {
      "text/plain": [
       "array([ 3.17961779,  4.14410911, -6.30046983,  4.99165757, -5.94374358])"
      ]
     },
     "execution_count": 80,
     "metadata": {},
     "output_type": "execute_result"
    }
   ],
   "source": [
    "result.coef_"
   ]
  },
  {
   "cell_type": "markdown",
   "metadata": {},
   "source": [
    "#### Calculating predictions on the train set, and on the test set"
   ]
  },
  {
   "cell_type": "code",
   "execution_count": 81,
   "metadata": {},
   "outputs": [],
   "source": [
    "y_hat_train = linreg.predict(x_train)\n",
    "y_hat_test = linreg.predict(x_test)"
   ]
  },
  {
   "cell_type": "markdown",
   "metadata": {},
   "source": [
    "#### Calculating your residuals"
   ]
  },
  {
   "cell_type": "code",
   "execution_count": 82,
   "metadata": {},
   "outputs": [],
   "source": [
    "train_res = y_hat_train - y_train\n",
    "test_res = y_hat_test - y_test"
   ]
  },
  {
   "cell_type": "markdown",
   "metadata": {},
   "source": [
    "#### Calculating the Mean Squared Error\n",
    "A good way to compare overall performance is to compare the mean squarred error for the predicted values on the train and test sets."
   ]
  },
  {
   "cell_type": "code",
   "execution_count": 83,
   "metadata": {},
   "outputs": [],
   "source": [
    "from sklearn.metrics import mean_squared_error"
   ]
  },
  {
   "cell_type": "code",
   "execution_count": 84,
   "metadata": {
    "scrolled": true
   },
   "outputs": [
    {
     "data": {
      "text/plain": [
       "18.368131162791"
      ]
     },
     "execution_count": 84,
     "metadata": {},
     "output_type": "execute_result"
    }
   ],
   "source": [
    "mean_squared_error(y_train, y_hat_train)"
   ]
  },
  {
   "cell_type": "code",
   "execution_count": 85,
   "metadata": {},
   "outputs": [
    {
     "data": {
      "text/plain": [
       "35.624383961651915"
      ]
     },
     "execution_count": 85,
     "metadata": {},
     "output_type": "execute_result"
    }
   ],
   "source": [
    "mean_squared_error(y_test, y_hat_test)"
   ]
  },
  {
   "cell_type": "markdown",
   "metadata": {},
   "source": [
    "If your test error is substantially worse then our train error, this is a sign that our model doesn't generalize well to future cases."
   ]
  },
  {
   "cell_type": "markdown",
   "metadata": {},
   "source": [
    "One simple way to demonstrate overfitting and underfitting is to alter the size of our train test split. By default, scikit learn's built in method allocates 25% of the data to the test set and 75% to the training set. Fitting a model on only 10% of the data is apt to lead to underfitting, while training a model on 99% of the data is apt to lead to overfitting."
   ]
  },
  {
   "cell_type": "markdown",
   "metadata": {},
   "source": [
    "# Evaluating the effect of train-test split size\n",
    "\n",
    "Iterate over a range of train-test split sizes from .5 to .95. For each of these, generate a new train/test split sample. Fit a model to the training sample and calculate both the training error and the test error (mse) for each of these splits. Plot these two curves (train error vs. training size and test error vs. training size) on a graph."
   ]
  },
  {
   "cell_type": "code",
   "execution_count": 86,
   "metadata": {},
   "outputs": [
    {
     "name": "stdout",
     "output_type": "stream",
     "text": [
      "when test size is 0.1\n",
      "train MSR is 22.407157365015827\n",
      "test MSR is 15.545233723626858\n",
      "--------------\n",
      "when test size is 0.11816326530612245\n",
      "train MSR is 21.323363660249495\n",
      "test MSR is 25.224227531822002\n",
      "--------------\n",
      "when test size is 0.1363265306122449\n",
      "train MSR is 22.045274297431924\n",
      "test MSR is 19.830865065847274\n",
      "--------------\n",
      "when test size is 0.15448979591836737\n",
      "train MSR is 19.30928306502612\n",
      "test MSR is 35.721841248098784\n",
      "--------------\n",
      "when test size is 0.1726530612244898\n",
      "train MSR is 19.98511203175655\n",
      "test MSR is 30.51608204676521\n",
      "--------------\n",
      "when test size is 0.19081632653061226\n",
      "train MSR is 23.203414138893205\n",
      "test MSR is 15.495812695116326\n",
      "--------------\n",
      "when test size is 0.2089795918367347\n",
      "train MSR is 21.181028414939906\n",
      "test MSR is 24.363589929007027\n",
      "--------------\n",
      "when test size is 0.22714285714285715\n",
      "train MSR is 22.92049885941236\n",
      "test MSR is 17.65242884986328\n",
      "--------------\n",
      "when test size is 0.2453061224489796\n",
      "train MSR is 20.569489772406055\n",
      "test MSR is 26.0955525407261\n",
      "--------------\n",
      "when test size is 0.26346938775510204\n",
      "train MSR is 19.758958284193533\n",
      "test MSR is 29.55964203879111\n",
      "--------------\n",
      "when test size is 0.2816326530612245\n",
      "train MSR is 20.977142482436406\n",
      "test MSR is 24.65981963811655\n",
      "--------------\n",
      "when test size is 0.2997959183673469\n",
      "train MSR is 18.3868101992334\n",
      "test MSR is 30.308124320436264\n",
      "--------------\n",
      "when test size is 0.3179591836734694\n",
      "train MSR is 17.193075699085803\n",
      "test MSR is 31.76845329239256\n",
      "--------------\n",
      "when test size is 0.33612244897959187\n",
      "train MSR is 20.566161031711026\n",
      "test MSR is 24.245149091847775\n",
      "--------------\n",
      "when test size is 0.3542857142857143\n",
      "train MSR is 22.549261459226255\n",
      "test MSR is 20.734370576108496\n",
      "--------------\n",
      "when test size is 0.37244897959183676\n",
      "train MSR is 21.9989499208217\n",
      "test MSR is 21.620082531607093\n",
      "--------------\n",
      "when test size is 0.3906122448979592\n",
      "train MSR is 17.350587527950342\n",
      "test MSR is 32.53876038307269\n",
      "--------------\n",
      "when test size is 0.40877551020408165\n",
      "train MSR is 19.19628384186392\n",
      "test MSR is 28.645184003302667\n",
      "--------------\n",
      "when test size is 0.4269387755102041\n",
      "train MSR is 23.235494821133447\n",
      "test MSR is 20.336578257276482\n",
      "--------------\n",
      "when test size is 0.44510204081632654\n",
      "train MSR is 19.556609380291466\n",
      "test MSR is 25.465777194702373\n",
      "--------------\n",
      "when test size is 0.463265306122449\n",
      "train MSR is 18.753586244399596\n",
      "test MSR is 25.70708786850003\n",
      "--------------\n",
      "when test size is 0.48142857142857143\n",
      "train MSR is 17.761050498643243\n",
      "test MSR is 26.646735513175365\n",
      "--------------\n",
      "when test size is 0.4995918367346939\n",
      "train MSR is 23.69096872834633\n",
      "test MSR is 20.591716259549955\n",
      "--------------\n",
      "when test size is 0.5177551020408163\n",
      "train MSR is 25.9657401068401\n",
      "test MSR is 18.300488596161397\n",
      "--------------\n",
      "when test size is 0.5359183673469388\n",
      "train MSR is 22.926349804011178\n",
      "test MSR is 21.687316337937464\n",
      "--------------\n",
      "when test size is 0.5540816326530612\n",
      "train MSR is 26.163301481627855\n",
      "test MSR is 18.58565203205892\n",
      "--------------\n",
      "when test size is 0.5722448979591837\n",
      "train MSR is 20.060258046795163\n",
      "test MSR is 23.476062713081173\n",
      "--------------\n",
      "when test size is 0.5904081632653061\n",
      "train MSR is 21.496998836330594\n",
      "test MSR is 22.463918843787756\n",
      "--------------\n",
      "when test size is 0.6085714285714285\n",
      "train MSR is 20.71703483602179\n",
      "test MSR is 23.84961772112722\n",
      "--------------\n",
      "when test size is 0.626734693877551\n",
      "train MSR is 22.74216728261849\n",
      "test MSR is 23.22665064666002\n",
      "--------------\n",
      "when test size is 0.6448979591836734\n",
      "train MSR is 23.46814179661864\n",
      "test MSR is 24.00206698389997\n",
      "--------------\n",
      "when test size is 0.6630612244897959\n",
      "train MSR is 24.390783648856342\n",
      "test MSR is 21.264900767481986\n",
      "--------------\n",
      "when test size is 0.6812244897959183\n",
      "train MSR is 24.594706992459464\n",
      "test MSR is 22.395495016796513\n",
      "--------------\n",
      "when test size is 0.6993877551020408\n",
      "train MSR is 22.394144948439134\n",
      "test MSR is 22.457743977365116\n",
      "--------------\n",
      "when test size is 0.7175510204081632\n",
      "train MSR is 19.522806352384322\n",
      "test MSR is 23.673203089526996\n",
      "--------------\n",
      "when test size is 0.7357142857142857\n",
      "train MSR is 20.933998598304502\n",
      "test MSR is 22.462397461964038\n",
      "--------------\n",
      "when test size is 0.7538775510204081\n",
      "train MSR is 21.24166651266739\n",
      "test MSR is 24.572043006850112\n",
      "--------------\n",
      "when test size is 0.7720408163265305\n",
      "train MSR is 23.501677270169527\n",
      "test MSR is 21.424285566215293\n",
      "--------------\n",
      "when test size is 0.790204081632653\n",
      "train MSR is 25.046968094076806\n",
      "test MSR is 21.22131349807846\n",
      "--------------\n",
      "when test size is 0.8083673469387754\n",
      "train MSR is 22.527470621100388\n",
      "test MSR is 23.631394065601942\n",
      "--------------\n",
      "when test size is 0.8265306122448979\n",
      "train MSR is 23.17689604527945\n",
      "test MSR is 24.263166232209404\n",
      "--------------\n",
      "when test size is 0.8446938775510203\n",
      "train MSR is 12.523126473247048\n",
      "test MSR is 28.11653889458287\n",
      "--------------\n",
      "when test size is 0.8628571428571428\n",
      "train MSR is 20.584535786478078\n",
      "test MSR is 25.21583850348958\n",
      "--------------\n",
      "when test size is 0.8810204081632652\n",
      "train MSR is 13.392920641392152\n",
      "test MSR is 27.02967743907283\n",
      "--------------\n",
      "when test size is 0.8991836734693877\n",
      "train MSR is 18.64372693769051\n",
      "test MSR is 27.777117731533572\n",
      "--------------\n",
      "when test size is 0.9173469387755101\n",
      "train MSR is 34.78292165712244\n",
      "test MSR is 23.598632271297816\n",
      "--------------\n",
      "when test size is 0.9355102040816325\n",
      "train MSR is 8.35928929299633\n",
      "test MSR is 34.58590500965693\n",
      "--------------\n",
      "when test size is 0.953673469387755\n",
      "train MSR is 10.583334106402189\n",
      "test MSR is 24.076634002320784\n",
      "--------------\n",
      "when test size is 0.9718367346938775\n",
      "train MSR is 10.641166144345002\n",
      "test MSR is 41.00157331126962\n",
      "--------------\n",
      "when test size is 0.99\n",
      "train MSR is 2.7143126026844576e-27\n",
      "test MSR is 6075.286439332944\n",
      "--------------\n"
     ]
    }
   ],
   "source": [
    "training_error = []\n",
    "testing_error = []\n",
    "training_size = []\n",
    "for i in np.linspace(0.2,0.9,50):\n",
    "    x_train, x_test, y_train, y_test = train_test_split(X, y, test_size = i)\n",
    "    training_size.append(len(x_train))\n",
    "    linreg = LinearRegression()\n",
    "    result = linreg.fit(x_train, y_train)\n",
    "    y_hat_train = linreg.predict(x_train)\n",
    "    y_hat_test = linreg.predict(x_test)\n",
    "    training_error.append(mean_squared_error(y_train, y_hat_train))\n",
    "    testing_error.append(mean_squared_error(y_test, y_hat_test))\n",
    "    print(f'when test size is {i}')\n",
    "    print(f'train MSR is {mean_squared_error(y_train, y_hat_train)}')\n",
    "    print(f'test MSR is {mean_squared_error(y_test, y_hat_test)}')\n",
    "    print('--------------')\n",
    "    "
   ]
  },
  {
   "cell_type": "code",
   "execution_count": 87,
   "metadata": {},
   "outputs": [
    {
     "data": {
      "text/plain": [
       "<matplotlib.collections.PathCollection at 0x7ffa0b5f3198>"
      ]
     },
     "execution_count": 87,
     "metadata": {},
     "output_type": "execute_result"
    },
    {
     "data": {
      "image/png": "[encoded data removed]",
      "text/plain": [
       "<Figure size 432x288 with 1 Axes>"
      ]
     },
     "metadata": {
      "needs_background": "light"
     },
     "output_type": "display_data"
    }
   ],
   "source": [
    "import matplotlib.pyplot as plt\n",
    "plt.scatter(training_size, testing_error)"
   ]
  },
  {
   "cell_type": "markdown",
   "metadata": {},
   "source": [
    "# Evaluating the effect of train-test split size: extension\n",
    "\n",
    "Repeat the previous example, but for each train-test split size, generate 100 iterations of models/errors and save the average train/test error. This will help account for any particularly good/bad models that might have resulted from poor/good splits in the data. "
   ]
  },
  {
   "cell_type": "code",
   "execution_count": 13,
   "metadata": {},
   "outputs": [
    {
     "data": {
      "text/plain": [
       "<matplotlib.legend.Legend at 0x1a26e93438>"
      ]
     },
     "execution_count": 13,
     "metadata": {},
     "output_type": "execute_result"
    },
    {
     "data": {
      "image/png": "[encoded data removed]",
      "text/plain": [
       "<matplotlib.figure.Figure at 0x1a217d3da0>"
      ]
     },
     "metadata": {},
     "output_type": "display_data"
    }
   ],
   "source": []
  },
  {
   "cell_type": "markdown",
   "metadata": {},
   "source": [
    "What's happening here? evaluate your result!"
   ]
  },
  {
   "cell_type": "markdown",
   "metadata": {},
   "source": [
    "##  Summary "
   ]
  },
  {
   "cell_type": "markdown",
   "metadata": {},
   "source": [
    "Congratulations! You now practiced your knowledge on MSE and on using train-test-split."
   ]
  }
 ],
 "metadata": {
  "kernelspec": {
   "display_name": "Python 3",
   "language": "python",
   "name": "python3"
  },
  "language_info": {
   "codemirror_mode": {
    "name": "ipython",
    "version": 3
   },
   "file_extension": ".py",
   "mimetype": "text/x-python",
   "name": "python",
   "nbconvert_exporter": "python",
   "pygments_lexer": "ipython3",
   "version": "3.6.6"
  }
 },
 "nbformat": 4,
 "nbformat_minor": 2
}
